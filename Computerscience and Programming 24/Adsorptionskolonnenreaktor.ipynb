{
 "cells": [
  {
   "cell_type": "markdown",
   "metadata": {},
   "source": [
    "# Projekt Adsorptionskolonnenreaktor\n",
    "Wir machen unsere erste simulation für folgendes problem:\n",
    "Wir haben eine Adsorptionskolonnenreaktor welche Feuchte Luft trocknet\n",
    "Hierzu wird feuchte Luft über ein \"Bett\" aus trockenem Absorber geleitet\n",
    "Wir wollen nun simulieren wie das Wasser in den Absorber diffundiert.\n",
    "Wir gehen hierzu in einfachen Teilschritten vor:"
   ]
  },
  {
   "cell_type": "code",
   "execution_count": 54,
   "metadata": {},
   "outputs": [
    {
     "name": "stdout",
     "output_type": "stream",
     "text": [
      "[[1. 1. 1. 1. 1. 1. 1. 1. 1. 1.]\n",
      " [0. 0. 0. 0. 0. 0. 0. 0. 0. 0.]\n",
      " [0. 0. 0. 0. 0. 0. 0. 0. 0. 0.]\n",
      " [0. 0. 0. 0. 0. 0. 0. 0. 0. 0.]\n",
      " [0. 0. 0. 0. 0. 0. 0. 0. 0. 0.]\n",
      " [0. 0. 0. 0. 0. 0. 0. 0. 0. 0.]\n",
      " [0. 0. 0. 0. 0. 0. 0. 0. 0. 0.]\n",
      " [0. 0. 0. 0. 0. 0. 0. 0. 0. 0.]\n",
      " [0. 0. 0. 0. 0. 0. 0. 0. 0. 0.]\n",
      " [0. 0. 0. 0. 0. 0. 0. 0. 0. 0.]]\n"
     ]
    }
   ],
   "source": [
    "# initiale Situation festlegen. \n",
    "# Hierzu betrachten wir einen 2D reaktor wecher auf 10x10 zellen besteht. \n",
    "# Alle diese Zellen sind initial trocken - haben also 0 wasser. \n",
    "# Die oberste Zelle soll nun unser Wasserreservoir sein. Füllen Sie die oberste zelle mit Einsen.\n",
    "import numpy as np\n",
    "import matplotlib.pyplot as plt\n",
    "concentration = np.zeros([10, 10])\n",
    "concentration[0,:] = np.ones(10)\n",
    "print(concentration)"
   ]
  },
  {
   "cell_type": "code",
   "execution_count": 55,
   "metadata": {},
   "outputs": [
    {
     "data": {
      "image/png": "[encoded data removed]",
      "text/plain": [
       "<Figure size 640x480 with 2 Axes>"
      ]
     },
     "metadata": {},
     "output_type": "display_data"
    }
   ],
   "source": [
    "# plotten sie den initialien zustand\n",
    "plt.imshow(concentration, cmap=\"viridis\", interpolation=\"none\")\n",
    "plt.title(\"Initial Condition\")\n",
    "plt.colorbar(label=\"Concentration of Water\")\n",
    "plt.show()\n",
    "\n",
    "# if abfragen, ob i oder j außerhalb von 0-100 sind für i+-1, j+-1\n",
    "for j in range(10):  # Zeilen (vertikal)\n",
    "    for i in range(10):  # Spalten (horizontal)\n",
    "        a = b = c = d = 0\n",
    "        if j-1 >= 0:  # untere Nachbarzelle\n",
    "            a = concentration[j-1, i]\n",
    "        if j+1 < 10:  # obere Nachbarzelle\n",
    "            b = concentration[j+1, i]\n",
    "        if i-1 >= 0:  # linke Nachbarzelle\n",
    "            c = concentration[j, i-1]\n",
    "        if i+1 < 10:  # rechte Nachbarzelle\n",
    "            d = concentration[j, i+1]\n",
    "\n",
    "        temp = a + b + c + d\n",
    "        concentration[j, i] = 0.25 * temp"
   ]
  },
  {
   "cell_type": "code",
   "execution_count": null,
   "metadata": {},
   "outputs": [],
   "source": [
    "# schreiben Sie eine funktion welche eine 10x10 matrix aufnimmt und einen diffusionsschritt vornimmt\n",
    "# diffusion geschieht hier modellweise horizontal und vertikal also für Zelle z\n",
    "# berechnung siehe folien!\n",
    "def diffusion_step(matrix):\n",
    "    if matrix.shape != (10, 10):\n",
    "        raise ValueError(\"Matrix must be 10x10.\")\n",
    "    \n",
    "    new_matrix = np.zeros_like(matrix)\n",
    "    \n",
    "    for i in range(10):\n",
    "        for j in range(10):\n",
    "            a = b = c = d = 0\n",
    "            if j-1 >= 0:  # untere Nachbarzelle\n",
    "                a = matrix[j-1, i]\n",
    "            if j+1 < 10:  # obere Nachbarzelle\n",
    "                b = matrix[j+1, i]\n",
    "            if i-1 >= 0:  # linke Nachbarzelle\n",
    "                c = matrix[j, i-1]\n",
    "            if i+1 < 10:  # rechte Nachbarzelle\n",
    "                d = matrix[j, i+1]\n",
    "\n",
    "            new_matrix[j, i] = 0.25 * (a+b+c+d)\n",
    "    return new_matrix\n",
    "\n",
    "\n"
   ]
  },
  {
   "cell_type": "code",
   "execution_count": 57,
   "metadata": {},
   "outputs": [],
   "source": [
    "# wir führen schritte aus mit unserer oben definierten funktion\n"
   ]
  }
 ],
 "metadata": {
  "kernelspec": {
   "display_name": "Python 3",
   "language": "python",
   "name": "python3"
  },
  "language_info": {
   "codemirror_mode": {
    "name": "ipython",
    "version": 3
   },
   "file_extension": ".py",
   "mimetype": "text/x-python",
   "name": "python",
   "nbconvert_exporter": "python",
   "pygments_lexer": "ipython3",
   "version": "3.12.7"
  }
 },
 "nbformat": 4,
 "nbformat_minor": 2
}
