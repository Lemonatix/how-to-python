{
 "cells": [
  {
   "cell_type": "markdown",
   "metadata": {},
   "source": [
    "# Projekt Adsorptionskolonnenreaktor\n",
    "Wir machen unsere erste simulation für folgendes problem:\n",
    "Wir haben eine Adsorptionskolonnenreaktor welche Feuchte Luft trocknet\n",
    "Hierzu wird feuchte Luft über ein \"Bett\" aus trockenem Absorber geleitet\n",
    "Wir wollen nun simulieren wie das Wasser in den Absorber diffundiert.\n",
    "Wir gehen hierzu in einfachen Teilschritten vor:"
   ]
  },
  {
   "cell_type": "code",
   "execution_count": 2,
   "metadata": {},
   "outputs": [
    {
     "name": "stdout",
     "output_type": "stream",
     "text": [
      "[[1. 1. 1. 1. 1. 1. 1. 1. 1. 1.]\n",
      " [0. 0. 0. 0. 0. 0. 0. 0. 0. 0.]\n",
      " [0. 0. 0. 0. 0. 0. 0. 0. 0. 0.]\n",
      " [0. 0. 0. 0. 0. 0. 0. 0. 0. 0.]\n",
      " [0. 0. 0. 0. 0. 0. 0. 0. 0. 0.]\n",
      " [0. 0. 0. 0. 0. 0. 0. 0. 0. 0.]\n",
      " [0. 0. 0. 0. 0. 0. 0. 0. 0. 0.]\n",
      " [0. 0. 0. 0. 0. 0. 0. 0. 0. 0.]\n",
      " [0. 0. 0. 0. 0. 0. 0. 0. 0. 0.]\n",
      " [0. 0. 0. 0. 0. 0. 0. 0. 0. 0.]]\n"
     ]
    }
   ],
   "source": [
    "# initiale Situation festlegen. \n",
    "# Hierzu betrachten wir einen 2D reaktor wecher auf 100x100 zellen besteht. \n",
    "# Alle diese Zellen sind initial trocken - haben also 0 wasser. \n",
    "# Die oberste Zelle soll nun unser Wasserreservoir sein. Füllen Sie die oberste zelle mit Einsen.\n",
    "import numpy as np\n",
    "concentration = np.zeros([10, 10])\n",
    "concentration[0,:] = np.ones(10)\n",
    "print(concentration)"
   ]
  },
  {
   "cell_type": "code",
   "execution_count": null,
   "metadata": {},
   "outputs": [
    {
     "ename": "NameError",
     "evalue": "name 'a' is not defined",
     "output_type": "error",
     "traceback": [
      "\u001b[0;31m---------------------------------------------------------------------------\u001b[0m",
      "\u001b[0;31mNameError\u001b[0m                                 Traceback (most recent call last)",
      "Cell \u001b[0;32mIn[3], line 15\u001b[0m\n\u001b[1;32m     12\u001b[0m \u001b[38;5;28;01mif\u001b[39;00m j\u001b[38;5;241m+\u001b[39m\u001b[38;5;241m1\u001b[39m \u001b[38;5;241m>\u001b[39m\u001b[38;5;241m=\u001b[39m \u001b[38;5;241m10\u001b[39m:\n\u001b[1;32m     13\u001b[0m     b \u001b[38;5;241m=\u001b[39m \u001b[38;5;241m0\u001b[39m\n\u001b[0;32m---> 15\u001b[0m temp \u001b[38;5;241m=\u001b[39m \u001b[43ma\u001b[49m\u001b[38;5;241m+\u001b[39mb\u001b[38;5;241m+\u001b[39mc\u001b[38;5;241m+\u001b[39md\n\u001b[1;32m     16\u001b[0m concentration[i,j] \u001b[38;5;241m=\u001b[39m \u001b[38;5;241m0.25\u001b[39m\u001b[38;5;241m*\u001b[39m(concentration[i\u001b[38;5;241m-\u001b[39m\u001b[38;5;241m1\u001b[39m, j])\u001b[38;5;241m+\u001b[39m\u001b[38;5;241m0.25\u001b[39m\u001b[38;5;241m*\u001b[39m(concentration[i\u001b[38;5;241m+\u001b[39m\u001b[38;5;241m1\u001b[39m, j])\u001b[38;5;241m+\u001b[39m\u001b[38;5;241m0.25\u001b[39m\u001b[38;5;241m*\u001b[39m(concentration[i, j\u001b[38;5;241m-\u001b[39m\u001b[38;5;241m1\u001b[39m])\u001b[38;5;241m+\u001b[39m\u001b[38;5;241m0.25\u001b[39m\u001b[38;5;241m*\u001b[39m(concentration[i, j\u001b[38;5;241m+\u001b[39m\u001b[38;5;241m1\u001b[39m])\n",
      "\u001b[0;31mNameError\u001b[0m: name 'a' is not defined"
     ]
    }
   ],
   "source": [
    "# plotten sie den initialien zustand\n",
    "# if abfragen, ob i oder j außrhalb von 0-10 sind für i+-1, j+-1\n",
    "for i in range(10):\n",
    "    for j in range(10):\n",
    "        temp = 0\n",
    "        if i-1 > 0:\n",
    "            a = concentration[i-1, j]\n",
    "        if i+1 >= 10:\n",
    "            a = 0\n",
    "        if j-1 > 0:\n",
    "            b = concentration[i, j-1]\n",
    "        if j+1 >= 10:\n",
    "            b = 0\n",
    "\n",
    "        temp = a+b+c+d\n",
    "        concentration[i,j] = 0.25*(concentration[i-1, j])+0.25*(concentration[i+1, j])+0.25*(concentration[i, j-1])+0.25*(concentration[i, j+1])"
   ]
  },
  {
   "cell_type": "code",
   "execution_count": null,
   "metadata": {},
   "outputs": [],
   "source": [
    "# schreiben Sie eine funktion welche eine 100x100 matrix aufnimmt und einen diffusionsschritt vornimmt\n",
    "# diffusion geschieht hier modellweise horizontal und vertikal also für zelle z\n",
    "# berechnung siehe folien!"
   ]
  },
  {
   "cell_type": "code",
   "execution_count": null,
   "metadata": {},
   "outputs": [],
   "source": [
    "# wir führen schritte aus mit unserer oben definierten funktion"
   ]
  }
 ],
 "metadata": {
  "kernelspec": {
   "display_name": "Python 3",
   "language": "python",
   "name": "python3"
  },
  "language_info": {
   "codemirror_mode": {
    "name": "ipython",
    "version": 3
   },
   "file_extension": ".py",
   "mimetype": "text/x-python",
   "name": "python",
   "nbconvert_exporter": "python",
   "pygments_lexer": "ipython3",
   "version": "3.12.7"
  }
 },
 "nbformat": 4,
 "nbformat_minor": 2
}
