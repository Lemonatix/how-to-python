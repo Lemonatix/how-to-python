{
 "cells": [
  {
   "cell_type": "markdown",
   "metadata": {},
   "source": [
    "# KT5 Preparation\n",
    "- pop lists\n",
    "- argmax & argsort\n",
    "- list in list\n",
    "- e.g.: x & y gegeben: über y wurde etwas berechnet: erstelle eine Liste mit den 10 größten Varianzwerten\n",
    "-> bzw. allgemein höchste Elementwerte wiedergeben (vor / nach pop list)"
   ]
  },
  {
   "cell_type": "code",
   "execution_count": 6,
   "metadata": {},
   "outputs": [
    {
     "name": "stdout",
     "output_type": "stream",
     "text": [
      "5\n",
      "[1, 2, 3, 4]\n",
      "1\n",
      "[2, 3, 4]\n"
     ]
    }
   ],
   "source": [
    "# pop lists\n",
    "my_list = [1, 2, 3, 4, 5]\n",
    "popped_element = my_list.pop() # without any argument, last element is popped\n",
    "print(popped_element)\n",
    "print(my_list)\n",
    "\n",
    "popped_element = my_list.pop(0) # with index, element at that index is popped\n",
    "print(popped_element)\n",
    "print(my_list)"
   ]
  },
  {
   "cell_type": "code",
   "execution_count": 7,
   "metadata": {},
   "outputs": [
    {
     "name": "stdout",
     "output_type": "stream",
     "text": [
      "3\n",
      "[1 2 0 4 3]\n",
      "[1 2 3 4 5]\n"
     ]
    }
   ],
   "source": [
    "# argmax & argsort\n",
    "import numpy as np\n",
    "arr = np.array([3, 1, 2, 5, 4])\n",
    "index_of_max = np.argmax(arr)\n",
    "print(index_of_max)\n",
    "\n",
    "sorted_indices = np.argsort(arr)\n",
    "print(sorted_indices)\n",
    "\n",
    "# sorted numbers\n",
    "sorted_array = arr[sorted_indices]\n",
    "print(sorted_array)"
   ]
  },
  {
   "cell_type": "code",
   "execution_count": 8,
   "metadata": {},
   "outputs": [
    {
     "name": "stdout",
     "output_type": "stream",
     "text": [
      "[1, 2, 3]\n",
      "5\n"
     ]
    }
   ],
   "source": [
    "# list in list\n",
    "nested_list = [[1, 2, 3], [4, 5, 6], [7, 8, 9]]\n",
    "\n",
    "# accessing elements\n",
    "first_sublist = nested_list[0]\n",
    "print(first_sublist)\n",
    "\n",
    "second_element_of_second_sublist = nested_list[1][1]\n",
    "print(second_element_of_second_sublist)"
   ]
  },
  {
   "cell_type": "code",
   "execution_count": 9,
   "metadata": {},
   "outputs": [
    {
     "name": "stdout",
     "output_type": "stream",
     "text": [
      "[[91 92 79  4 47 89  0 48 96 54]\n",
      " [65 18 76 25  0  1 54 52  4 36]\n",
      " [81 65 72 60 76 26  4 79 89 26]\n",
      " [11 91 80  4 40 58 65 34 98 30]\n",
      " [19 65 17 72 81 57 47 86 90  0]\n",
      " [72 84 34 33 79 94 94 61  8 63]\n",
      " [35 94 92 81 72 72 44 56 60 41]\n",
      " [20 39 14 67 65  9 13 95 34 35]\n",
      " [88 23 19 19 37 49 51 65 95 45]\n",
      " [72 43  7 33 55 11 75 26 40 20]]\n",
      "[ 394.61  502.56  653.29  692.69  719.89  746.36  746.76  905.84  955.49\n",
      " 1156.8 ]\n"
     ]
    }
   ],
   "source": [
    "# Create a list with the 10 largest variance values\n",
    "import numpy as np\n",
    "arr = np.random.randint(0, 100, size=(10, 10)) # 2D array with 10x10 columns\n",
    "print(arr)\n",
    "\n",
    "# Calculate the variance of each row in the original 2D array\n",
    "variances = np.var(arr, axis=1)\n",
    "\n",
    "# Get the indices of the 10 largest variances\n",
    "largest_variance_indices = np.argsort(variances)[-10:]\n",
    "\n",
    "# Create a list with the 10 largest variance values\n",
    "largest_variances = variances[largest_variance_indices]\n",
    "print(largest_variances)"
   ]
  },
  {
   "cell_type": "code",
   "execution_count": 10,
   "metadata": {},
   "outputs": [
    {
     "name": "stdout",
     "output_type": "stream",
     "text": [
      "[ 942.6731  945.3651  951.8476  954.2579  956.1784  959.88    972.7364\n",
      "  976.6819  985.0024 1007.0539]\n"
     ]
    }
   ],
   "source": [
    "import numpy as np\n",
    "\n",
    "x = np.random.randint(100)\n",
    "y = np.random.randint(0, 100, size=(100, 100))  # Assuming y is a 2D 100x100 array\n",
    "\n",
    "# Calculate variance for each column in y\n",
    "variances = np.var(y, axis=0)\n",
    "\n",
    "# Get indices of the 10 largest variances\n",
    "largest_variance_indices = np.argsort(variances)[-10:]\n",
    "\n",
    "# Create a list with the 10 largest variance values\n",
    "largest_variances = variances[largest_variance_indices]\n",
    "print(largest_variances)"
   ]
  }
 ],
 "metadata": {
  "kernelspec": {
   "display_name": "Python 3",
   "language": "python",
   "name": "python3"
  },
  "language_info": {
   "codemirror_mode": {
    "name": "ipython",
    "version": 3
   },
   "file_extension": ".py",
   "mimetype": "text/x-python",
   "name": "python",
   "nbconvert_exporter": "python",
   "pygments_lexer": "ipython3",
   "version": "3.11.9"
  }
 },
 "nbformat": 4,
 "nbformat_minor": 2
}
