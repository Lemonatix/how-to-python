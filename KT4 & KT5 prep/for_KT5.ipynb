{
 "cells": [
  {
   "cell_type": "markdown",
   "metadata": {},
   "source": [
    "# KT5 Preparation\n",
    "- pop lists\n",
    "- argmax & argsort\n",
    "- list in list\n",
    "- e.g.: x & y gegeben: über y wurde etwas berechnet: erstelle eine Liste mit den 10 größten Varianzwerten"
   ]
  },
  {
   "cell_type": "code",
   "execution_count": 12,
   "metadata": {},
   "outputs": [
    {
     "name": "stdout",
     "output_type": "stream",
     "text": [
      "5\n",
      "[1, 2, 3, 4]\n",
      "1\n",
      "[2, 3, 4]\n"
     ]
    }
   ],
   "source": [
    "# pop lists\n",
    "my_list = [1, 2, 3, 4, 5]\n",
    "popped_element = my_list.pop() # without any argument, last element is popped\n",
    "print(popped_element)\n",
    "print(my_list)\n",
    "\n",
    "popped_element = my_list.pop(0) # with index, element at that index is popped\n",
    "print(popped_element)\n",
    "print(my_list)"
   ]
  },
  {
   "cell_type": "code",
   "execution_count": 13,
   "metadata": {},
   "outputs": [
    {
     "name": "stdout",
     "output_type": "stream",
     "text": [
      "3\n",
      "<built-in function sorted>\n",
      "[1 2 3 4 5]\n"
     ]
    }
   ],
   "source": [
    "# argmax & argsort\n",
    "import numpy as np\n",
    "arr = np.array([3, 1, 2, 5, 4])\n",
    "index_of_max = np.argmax(arr)\n",
    "print(index_of_max)\n",
    "\n",
    "sorted_indices = np.argsort(arr)\n",
    "print(sorted)\n",
    "\n",
    "# sorted numbers\n",
    "sorted_array = arr[sorted_indices]\n",
    "print(sorted_array)"
   ]
  },
  {
   "cell_type": "code",
   "execution_count": 14,
   "metadata": {},
   "outputs": [
    {
     "name": "stdout",
     "output_type": "stream",
     "text": [
      "[1, 2, 3]\n",
      "5\n"
     ]
    }
   ],
   "source": [
    "# list in list\n",
    "nested_list = [[1, 2, 3], [4, 5, 6], [7, 8, 9]]\n",
    "\n",
    "# accessing elements\n",
    "first_sublist = nested_list[0]\n",
    "print(first_sublist)\n",
    "\n",
    "second_element_of_second_sublist = nested_list[1][1]\n",
    "print(second_element_of_second_sublist)"
   ]
  },
  {
   "cell_type": "code",
   "execution_count": 15,
   "metadata": {},
   "outputs": [
    {
     "name": "stdout",
     "output_type": "stream",
     "text": [
      "[[49  6 85 54 83 22 13 67  6  0]\n",
      " [84 18 72 25 50 84 98 19 59 80]\n",
      " [75 61 91 17 52 63  2 71 16 27]\n",
      " [84 97 60 42 81  0 67 80  5  4]\n",
      " [16 69 85 85  4 41 34 98 96 17]\n",
      " [ 5 57 80  3 92 36 84 87 30 47]\n",
      " [65 20 89 14 85 67 49  1 87 63]\n",
      " [40 21  2  8 82 25  7 93 82 20]\n",
      " [59 43  4 20 50 56 47 70 26 28]\n",
      " [92 50 95 73  2 85 48 38 22 49]]\n",
      "[ 371.01  789.89  805.65  848.84  923.6   982.25 1003.29 1084.   1172.65\n",
      " 1228.  ]\n"
     ]
    }
   ],
   "source": [
    "# Create a list with the 10 largest variance values\n",
    "import numpy as np\n",
    "arr = np.random.randint(0, 100, size=(10, 10)) # 2D array with 10x10 columns\n",
    "print(arr)\n",
    "\n",
    "# Calculate the variance of each row in the original 2D array\n",
    "variances = np.var(arr, axis=1)\n",
    "\n",
    "# Get the indices of the 10 largest variances\n",
    "largest_variance_indices = np.argsort(variances)[-10:]\n",
    "\n",
    "# Create a list with the 10 largest variance values\n",
    "largest_variances = variances[largest_variance_indices]\n",
    "print(largest_variances)"
   ]
  },
  {
   "cell_type": "code",
   "execution_count": 16,
   "metadata": {},
   "outputs": [
    {
     "name": "stdout",
     "output_type": "stream",
     "text": [
      "[ 932.9724  944.2056  952.0331  985.3051  997.2219 1006.4544 1006.99\n",
      " 1008.6724 1027.3236 1057.8491]\n"
     ]
    }
   ],
   "source": [
    "import numpy as np\n",
    "\n",
    "x = np.random.randint(100)\n",
    "y = np.random.randint(0, 100, size=(100, 100))  # Assuming y is a 2D 100x100 array\n",
    "\n",
    "# Calculate variance for each column in y\n",
    "variances = np.var(y, axis=0)\n",
    "\n",
    "# Get indices of the 10 largest variances\n",
    "largest_variance_indices = np.argsort(variances)[-10:]\n",
    "\n",
    "# Create a list with the 10 largest variance values\n",
    "largest_variances = variances[largest_variance_indices]\n",
    "print(largest_variances)"
   ]
  }
 ],
 "metadata": {
  "kernelspec": {
   "display_name": "Python 3",
   "language": "python",
   "name": "python3"
  },
  "language_info": {
   "codemirror_mode": {
    "name": "ipython",
    "version": 3
   },
   "file_extension": ".py",
   "mimetype": "text/x-python",
   "name": "python",
   "nbconvert_exporter": "python",
   "pygments_lexer": "ipython3",
   "version": "3.11.9"
  }
 },
 "nbformat": 4,
 "nbformat_minor": 2
}
