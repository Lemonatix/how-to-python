{
 "cells": [
  {
   "cell_type": "markdown",
   "metadata": {},
   "source": [
    "# KT5 Preparation\n",
    "- pop lists\n",
    "- argmax & argsort\n",
    "- list in list\n",
    "- e.g.: x & y gegeben: über y wurde etwas berechnet: erstelle eine Liste mit den 10 größten Varianzwerten"
   ]
  },
  {
   "cell_type": "code",
   "execution_count": 195,
   "metadata": {},
   "outputs": [
    {
     "name": "stdout",
     "output_type": "stream",
     "text": [
      "5\n",
      "[1, 2, 3, 4]\n",
      "1\n",
      "[2, 3, 4]\n"
     ]
    }
   ],
   "source": [
    "# pop lists\n",
    "my_list = [1, 2, 3, 4, 5]\n",
    "popped_element = my_list.pop() # without any argument, last element is popped\n",
    "print(popped_element)\n",
    "print(my_list)\n",
    "\n",
    "popped_element = my_list.pop(0) # with index, element at that index is popped\n",
    "print(popped_element)\n",
    "print(my_list)"
   ]
  },
  {
   "cell_type": "code",
   "execution_count": 196,
   "metadata": {},
   "outputs": [
    {
     "name": "stdout",
     "output_type": "stream",
     "text": [
      "3\n",
      "[1 2 0 4 3]\n",
      "[1 2 3 4 5]\n"
     ]
    }
   ],
   "source": [
    "# argmax & argsort\n",
    "import numpy as np\n",
    "arr = np.array([3, 1, 2, 5, 4])\n",
    "index_of_max = np.argmax(arr)\n",
    "print(index_of_max)\n",
    "\n",
    "sorted_indices = np.argsort(arr)\n",
    "print(sorted)\n",
    "\n",
    "# sorted numbers\n",
    "sorted_array = arr[sorted_indices]\n",
    "print(sorted_array)"
   ]
  },
  {
   "cell_type": "code",
   "execution_count": 197,
   "metadata": {},
   "outputs": [
    {
     "name": "stdout",
     "output_type": "stream",
     "text": [
      "[1, 2, 3]\n",
      "5\n"
     ]
    }
   ],
   "source": [
    "# list in list\n",
    "nested_list = [[1, 2, 3], [4, 5, 6], [7, 8, 9]]\n",
    "\n",
    "# accessing elements\n",
    "first_sublist = nested_list[0]\n",
    "print(first_sublist)\n",
    "\n",
    "second_element_of_second_sublist = nested_list[1][1]\n",
    "print(second_element_of_second_sublist)"
   ]
  },
  {
   "cell_type": "code",
   "execution_count": 198,
   "metadata": {},
   "outputs": [
    {
     "name": "stdout",
     "output_type": "stream",
     "text": [
      "[[62 21 25 27 84 48 70 80 83 48]\n",
      " [19 85 91 62 60 48 70  0 95 12]\n",
      " [93 86 50 55 82 61 31 29 28 48]\n",
      " [44 92 29 15 39 18 17  0 77 46]\n",
      " [65 91 93 37 50 62  3  0  7 28]\n",
      " [54  2 31  9 73 82 33 96 86 54]\n",
      " [91 31 49  6 92  7 64 56 66 87]\n",
      " [86 58 71 53 66 50 96 91  7 33]\n",
      " [34 95 87 77 31 45 15 67 36 53]\n",
      " [84 13 94 54 47 81  6 73  6 32]]\n",
      "[ 520.81  546.16  632.4   676.89  743.21  920.89  959.2  1016.2  1030.76\n",
      " 1070.04]\n"
     ]
    }
   ],
   "source": [
    "# Create a list with the 10 largest variance values\n",
    "import numpy as np\n",
    "arr = np.random.randint(0, 100, size=(10, 10)) # 2D array with 10x10 columns\n",
    "print(arr)\n",
    "\n",
    "# Calculate the variance of each row in the original 2D array\n",
    "variances = np.var(arr, axis=1)\n",
    "\n",
    "# Get the indices of the 10 largest variances\n",
    "largest_variance_indices = np.argsort(variances)[-10:]\n",
    "\n",
    "# Create a list with the 10 largest variance values\n",
    "largest_variances = variances[largest_variance_indices]\n",
    "print(largest_variances)"
   ]
  }
 ],
 "metadata": {
  "kernelspec": {
   "display_name": "Python 3",
   "language": "python",
   "name": "python3"
  },
  "language_info": {
   "codemirror_mode": {
    "name": "ipython",
    "version": 3
   },
   "file_extension": ".py",
   "mimetype": "text/x-python",
   "name": "python",
   "nbconvert_exporter": "python",
   "pygments_lexer": "ipython3",
   "version": "3.11.9"
  }
 },
 "nbformat": 4,
 "nbformat_minor": 2
}
