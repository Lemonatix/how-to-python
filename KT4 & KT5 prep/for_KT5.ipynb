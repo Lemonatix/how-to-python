{
 "cells": [
  {
   "cell_type": "markdown",
   "metadata": {},
   "source": [
    "# KT5 Preparation\n",
    "- pop lists\n",
    "- argmax & argsort\n",
    "- list in list\n",
    "- e.g.: x & y gegeben: über y wurde etwas berechnet: erstelle eine Liste mit den 10 größten Varianzwerten\n",
    "-> bzw. allgemein höchste Elementwerte wiedergeben (vor / nach pop list)"
   ]
  },
  {
   "cell_type": "code",
   "execution_count": 1,
   "metadata": {},
   "outputs": [
    {
     "name": "stdout",
     "output_type": "stream",
     "text": [
      "5\n",
      "[1, 2, 3, 4]\n",
      "1\n",
      "[2, 3, 4]\n"
     ]
    }
   ],
   "source": [
    "# pop lists\n",
    "my_list = [1, 2, 3, 4, 5]\n",
    "popped_element = my_list.pop() # without any argument, last element is popped\n",
    "print(popped_element)\n",
    "print(my_list)\n",
    "\n",
    "popped_element = my_list.pop(0) # with index, element at that index is popped\n",
    "print(popped_element)\n",
    "print(my_list)"
   ]
  },
  {
   "cell_type": "code",
   "execution_count": 2,
   "metadata": {},
   "outputs": [
    {
     "name": "stdout",
     "output_type": "stream",
     "text": [
      "3\n",
      "[1 2 0 4 3]\n",
      "[1 2 3 4 5]\n"
     ]
    }
   ],
   "source": [
    "# argmax & argsort\n",
    "import numpy as np\n",
    "arr = np.array([3, 1, 2, 5, 4])\n",
    "index_of_max = np.argmax(arr) # analog für argmin\n",
    "print(index_of_max)\n",
    "\n",
    "sorted_indices = np.argsort(arr)\n",
    "print(sorted_indices)\n",
    "\n",
    "# sorted numbers\n",
    "sorted_array = arr[sorted_indices]\n",
    "print(sorted_array)"
   ]
  },
  {
   "cell_type": "code",
   "execution_count": 3,
   "metadata": {},
   "outputs": [
    {
     "name": "stdout",
     "output_type": "stream",
     "text": [
      "[1, 2, 3]\n",
      "5\n"
     ]
    }
   ],
   "source": [
    "# list in list\n",
    "nested_list = [[1, 2, 3], [4, 5, 6], [7, 8, 9]]\n",
    "\n",
    "# accessing elements\n",
    "first_sublist = nested_list[0]\n",
    "print(first_sublist)\n",
    "\n",
    "second_element_of_second_sublist = nested_list[1][1]\n",
    "print(second_element_of_second_sublist)"
   ]
  },
  {
   "cell_type": "code",
   "execution_count": 4,
   "metadata": {},
   "outputs": [
    {
     "name": "stdout",
     "output_type": "stream",
     "text": [
      "[[25 60 46 56 63 50 84 70 73 95]\n",
      " [65 93 10 82 28 73 23 97 57 82]\n",
      " [86 96 77 17 61 63  4 71 23 30]\n",
      " [62 39 69 38 68 69 96 56 81 47]\n",
      " [53 34 13 36  6 89 86 58 77 36]\n",
      " [ 5 51  7  7 98 29 35 10 32 30]\n",
      " [12  9 21  3 27  6  9 77 60 50]\n",
      " [60 30 96 72 68 48 25 47 75  6]\n",
      " [38 12 20 86 74 62 45 75 49 14]\n",
      " [64  7 71 24 38 58 77 82 71 36]]\n",
      "[301.45 356.76 568.16 604.24 638.85 655.01 717.64 755.76 851.2  912.76]\n"
     ]
    }
   ],
   "source": [
    "# Create a list with the 10 largest variance values\n",
    "import numpy as np\n",
    "arr = np.random.randint(0, 100, size=(10, 10)) # 2D array with 10x10 columns\n",
    "print(arr)\n",
    "\n",
    "# Calculate the variance of each row in the original 2D array\n",
    "variances = np.var(arr, axis=1)\n",
    "\n",
    "# Get the indices of the 10 largest variances\n",
    "largest_variance_indices = np.argsort(variances)[-10:]\n",
    "\n",
    "# Create a list with the 10 largest variance values\n",
    "largest_variances = variances[largest_variance_indices]\n",
    "print(largest_variances)"
   ]
  },
  {
   "cell_type": "code",
   "execution_count": 5,
   "metadata": {},
   "outputs": [
    {
     "name": "stdout",
     "output_type": "stream",
     "text": [
      "[ 900.0179  901.9156  905.3579  910.5299  918.9611  925.3475  943.3251\n",
      "  954.0004  990.3099 1045.6275]\n"
     ]
    }
   ],
   "source": [
    "import numpy as np\n",
    "\n",
    "x = np.random.randint(100)\n",
    "y = np.random.randint(0, 100, size=(100, 100))  # Assuming y is a 2D 100x100 array\n",
    "\n",
    "# Calculate variance for each column in y\n",
    "variances = np.var(y, axis=0)\n",
    "\n",
    "# Get indices of the 10 largest variances\n",
    "largest_variance_indices = np.argsort(variances)[-10:]\n",
    "\n",
    "# Create a list with the 10 largest variance values\n",
    "largest_variances = variances[largest_variance_indices]\n",
    "print(largest_variances)"
   ]
  }
 ],
 "metadata": {
  "kernelspec": {
   "display_name": "Python 3",
   "language": "python",
   "name": "python3"
  },
  "language_info": {
   "codemirror_mode": {
    "name": "ipython",
    "version": 3
   },
   "file_extension": ".py",
   "mimetype": "text/x-python",
   "name": "python",
   "nbconvert_exporter": "python",
   "pygments_lexer": "ipython3",
   "version": "3.11.9"
  }
 },
 "nbformat": 4,
 "nbformat_minor": 2
}
