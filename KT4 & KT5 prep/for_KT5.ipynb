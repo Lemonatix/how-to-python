{
 "cells": [
  {
   "cell_type": "markdown",
   "metadata": {},
   "source": [
    "# KT5 Preparation\n",
    "- pop lists\n",
    "- argmax & argsort\n",
    "- list in list\n",
    "- e.g.: x & y gegeben: über y wurde etwas berechnet: erstelle eine Liste mit den 10 größten Varianzwerten"
   ]
  },
  {
   "cell_type": "code",
   "execution_count": 8,
   "metadata": {},
   "outputs": [
    {
     "name": "stdout",
     "output_type": "stream",
     "text": [
      "5\n",
      "[1, 2, 3, 4]\n",
      "1\n",
      "[2, 3, 4]\n"
     ]
    }
   ],
   "source": [
    "# pop lists\n",
    "my_list = [1, 2, 3, 4, 5]\n",
    "popped_element = my_list.pop() # without any argument, last element is popped\n",
    "print(popped_element)\n",
    "print(my_list)\n",
    "\n",
    "popped_element = my_list.pop(0) # with index, element at that index is popped\n",
    "print(popped_element)\n",
    "print(my_list)"
   ]
  },
  {
   "cell_type": "code",
   "execution_count": 16,
   "metadata": {},
   "outputs": [
    {
     "name": "stdout",
     "output_type": "stream",
     "text": [
      "3\n",
      "[1 2 0 4 3]\n",
      "[1 2 3 4 5]\n"
     ]
    }
   ],
   "source": [
    "# argmax & argsort\n",
    "import numpy as np\n",
    "arr = np.array([3, 1, 2, 5, 4])\n",
    "index_of_max = np.argmax(arr)\n",
    "print(index_of_max)\n",
    "\n",
    "sorted_indices = np.argsort(arr)\n",
    "print(sorted)\n",
    "\n",
    "# sorted numbers\n",
    "sorted_array = arr[sorted_indices]\n",
    "print(sorted_array)"
   ]
  },
  {
   "cell_type": "code",
   "execution_count": 21,
   "metadata": {},
   "outputs": [
    {
     "name": "stdout",
     "output_type": "stream",
     "text": [
      "[1, 2, 3]\n",
      "5\n"
     ]
    }
   ],
   "source": [
    "# list in list\n",
    "nested_list = [[1, 2, 3], [4, 5, 6], [7, 8, 9]]\n",
    "\n",
    "# accessing elements\n",
    "first_sublist = nested_list[0]\n",
    "print(first_sublist)\n",
    "\n",
    "second_element_of_second_sublist = nested_list[1][1]\n",
    "print(second_element_of_second_sublist)"
   ]
  },
  {
   "cell_type": "code",
   "execution_count": null,
   "metadata": {},
   "outputs": [],
   "source": []
  }
 ],
 "metadata": {
  "kernelspec": {
   "display_name": "Python 3",
   "language": "python",
   "name": "python3"
  },
  "language_info": {
   "codemirror_mode": {
    "name": "ipython",
    "version": 3
   },
   "file_extension": ".py",
   "mimetype": "text/x-python",
   "name": "python",
   "nbconvert_exporter": "python",
   "pygments_lexer": "ipython3",
   "version": "3.11.9"
  }
 },
 "nbformat": 4,
 "nbformat_minor": 2
}
