{
 "cells": [
  {
   "cell_type": "markdown",
   "metadata": {},
   "source": [
    "## Preparation for last KT(5)"
   ]
  },
  {
   "cell_type": "code",
   "execution_count": 22,
   "metadata": {},
   "outputs": [
    {
     "name": "stdout",
     "output_type": "stream",
     "text": [
      "5\n"
     ]
    }
   ],
   "source": [
    "import numpy as np\n",
    "list1 = [1, 2, 3, 4, 5]\n",
    "print(list1.pop(np.argmax(list1)))"
   ]
  },
  {
   "cell_type": "code",
   "execution_count": 23,
   "metadata": {},
   "outputs": [
    {
     "name": "stdout",
     "output_type": "stream",
     "text": [
      "3\n"
     ]
    }
   ],
   "source": [
    "arr = np.array([3, 1, 2, 5, 4])\n",
    "print(np.argmax(arr))"
   ]
  },
  {
   "cell_type": "markdown",
   "metadata": {},
   "source": [
    "### Beispielaufgabe"
   ]
  },
  {
   "cell_type": "code",
   "execution_count": 24,
   "metadata": {},
   "outputs": [
    {
     "name": "stdout",
     "output_type": "stream",
     "text": [
      "[0.10713175 0.11159059 0.12209258]\n",
      "[0.047095   0.06676916 0.08248883]\n"
     ]
    },
    {
     "data": {
      "text/plain": [
       "0.03403099"
      ]
     },
     "execution_count": 24,
     "metadata": {},
     "output_type": "execute_result"
    }
   ],
   "source": [
    "array2d = np.random.rand(10, 10)\n",
    "variances = np.var(array2d, axis=1)\n",
    "\n",
    "np.random.seed(0) # für Reproduzierbarkeit\n",
    "top3_indices = np.argsort(variances)[-3:]\n",
    "min3_indices = np.argsort(variances)[:3]\n",
    "\n",
    "top3_variances = variances[top3_indices]\n",
    "# top3_variances = variances[np.argsort(variances)[-3:]]\n",
    "min3_variances = variances[min3_indices]\n",
    "\n",
    "print(top3_variances)\n",
    "print(min3_variances)\n",
    "\n",
    "var_list = [0.03403099, 0.04685508, 0.06081199]\n",
    "var_list.pop(0)"
   ]
  },
  {
   "cell_type": "code",
   "execution_count": 25,
   "metadata": {},
   "outputs": [
    {
     "name": "stdout",
     "output_type": "stream",
     "text": [
      "[1, 2, 3]\n",
      "[2, 3]\n"
     ]
    },
    {
     "data": {
      "text/plain": [
       "array([1, 2, 3, 4, 5])"
      ]
     },
     "execution_count": 25,
     "metadata": {},
     "output_type": "execute_result"
    }
   ],
   "source": [
    "my_list1 = [1, 2, 3, 4, 5]\n",
    "ergebnis = my_list1[1:3]\n",
    "kleinste3 = my_list1[:3]\n",
    "\n",
    "print(kleinste3)\n",
    "print(ergebnis)\n",
    "\n",
    "np.array(my_list1)"
   ]
  },
  {
   "cell_type": "code",
   "execution_count": 26,
   "metadata": {},
   "outputs": [
    {
     "name": "stdout",
     "output_type": "stream",
     "text": [
      "Popped element: 0.6771411441114241\n",
      "Remaining list length: 999\n"
     ]
    }
   ],
   "source": [
    "array3d = np.random.rand(10, 10, 10)\n",
    "\n",
    "flattened_array = array3d.flatten()\n",
    "flattened_list = flattened_array.tolist()\n",
    "popped_element = flattened_list.pop()\n",
    "\n",
    "print(\"Popped element:\", popped_element)\n",
    "print(\"Remaining list length:\", len(flattened_list))"
   ]
  },
  {
   "cell_type": "code",
   "execution_count": 27,
   "metadata": {},
   "outputs": [
    {
     "name": "stdout",
     "output_type": "stream",
     "text": [
      "[1, 2, 3, [4, 5]]\n"
     ]
    }
   ],
   "source": [
    "my_list = [1, 2, 3]\n",
    "my_list.append([4, 5])\n",
    "print(my_list)"
   ]
  },
  {
   "cell_type": "code",
   "execution_count": 28,
   "metadata": {},
   "outputs": [
    {
     "name": "stdout",
     "output_type": "stream",
     "text": [
      "[1 2 3 4 5]\n"
     ]
    }
   ],
   "source": [
    "a = [1, 2, 3, 4 ,5]\n",
    "array123 = np.array(a)\n",
    "print(array123)"
   ]
  },
  {
   "cell_type": "code",
   "execution_count": null,
   "metadata": {},
   "outputs": [],
   "source": []
  }
 ],
 "metadata": {
  "kernelspec": {
   "display_name": "base",
   "language": "python",
   "name": "python3"
  },
  "language_info": {
   "codemirror_mode": {
    "name": "ipython",
    "version": 3
   },
   "file_extension": ".py",
   "mimetype": "text/x-python",
   "name": "python",
   "nbconvert_exporter": "python",
   "pygments_lexer": "ipython3",
   "version": "3.11.8"
  }
 },
 "nbformat": 4,
 "nbformat_minor": 2
}
