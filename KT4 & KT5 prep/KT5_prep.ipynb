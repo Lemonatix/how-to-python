{
 "cells": [
  {
   "cell_type": "markdown",
   "metadata": {},
   "source": [
    "## Preparation for last KT(5)"
   ]
  },
  {
   "cell_type": "code",
   "execution_count": 57,
   "metadata": {},
   "outputs": [
    {
     "name": "stdout",
     "output_type": "stream",
     "text": [
      "5\n"
     ]
    }
   ],
   "source": [
    "import numpy as np\n",
    "list1 = [1, 2, 3, 4, 5]\n",
    "print(list1.pop(np.argmax(list1)))"
   ]
  },
  {
   "cell_type": "code",
   "execution_count": 58,
   "metadata": {},
   "outputs": [
    {
     "name": "stdout",
     "output_type": "stream",
     "text": [
      "3\n"
     ]
    }
   ],
   "source": [
    "arr = np.array([3, 1, 2, 5, 4])\n",
    "print(np.argmax(arr))"
   ]
  },
  {
   "cell_type": "code",
   "execution_count": 70,
   "metadata": {},
   "outputs": [
    {
     "name": "stdout",
     "output_type": "stream",
     "text": [
      "[0.08448183 0.1100026  0.11588658]\n",
      "[0.03403099 0.04685508 0.06081199]\n"
     ]
    }
   ],
   "source": [
    "array2d = np.random.rand(10, 10)\n",
    "array2d.flatten()\n",
    "var1 = np.var(array2d)\n",
    "\n",
    "np.random.seed(0)\n",
    "top3_indices = np.argsort(variances)[-3:]\n",
    "min3_indices = np.argsort(variances)[:3]\n",
    "\n",
    "variances = np.var(array2d, axis=1)\n",
    "\n",
    "top3_variances = variances[top3_indices]\n",
    "# top3_variances = variances[np.argsort(variances)[-3:]]\n",
    "min3_variances = variances[min3_indices]\n",
    "\n",
    "print(top3_variances)\n",
    "print(min3_variances)"
   ]
  },
  {
   "cell_type": "code",
   "execution_count": 87,
   "metadata": {},
   "outputs": [
    {
     "name": "stdout",
     "output_type": "stream",
     "text": [
      "[1, 2, 3]\n",
      "[2, 3]\n"
     ]
    },
    {
     "data": {
      "text/plain": [
       "array([1, 2, 3, 4, 5])"
      ]
     },
     "execution_count": 87,
     "metadata": {},
     "output_type": "execute_result"
    }
   ],
   "source": [
    "my_list1 = [1, 2, 3, 4, 5]\n",
    "ergebnis = my_list1[1:3]\n",
    "kleinste3 = my_list1[:3]\n",
    "\n",
    "print(kleinste3)\n",
    "print(ergebnis)\n",
    "\n",
    "np.array(my_list1)"
   ]
  },
  {
   "cell_type": "code",
   "execution_count": null,
   "metadata": {},
   "outputs": [],
   "source": []
  }
 ],
 "metadata": {
  "kernelspec": {
   "display_name": "Python 3",
   "language": "python",
   "name": "python3"
  },
  "language_info": {
   "codemirror_mode": {
    "name": "ipython",
    "version": 3
   },
   "file_extension": ".py",
   "mimetype": "text/x-python",
   "name": "python",
   "nbconvert_exporter": "python",
   "pygments_lexer": "ipython3",
   "version": "3.11.9"
  }
 },
 "nbformat": 4,
 "nbformat_minor": 2
}
