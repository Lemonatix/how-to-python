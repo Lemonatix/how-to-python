{
 "cells": [
  {
   "cell_type": "code",
   "execution_count": 4,
   "id": "03fe0b7f",
   "metadata": {},
   "outputs": [
    {
     "name": "stdout",
     "output_type": "stream",
     "text": [
      "Requirement already satisfied: phiflow in /home/mmr/.pyenv/versions/3.12.7/lib/python3.12/site-packages (3.4.0)\n",
      "Requirement already satisfied: phiml>=1.14.0 in /home/mmr/.pyenv/versions/3.12.7/lib/python3.12/site-packages (from phiflow) (1.14.1)\n",
      "Requirement already satisfied: matplotlib>=3.5.0 in /home/mmr/.pyenv/versions/3.12.7/lib/python3.12/site-packages (from phiflow) (3.10.0)\n",
      "Requirement already satisfied: packaging in /home/mmr/.pyenv/versions/3.12.7/lib/python3.12/site-packages (from phiflow) (24.2)\n",
      "Requirement already satisfied: contourpy>=1.0.1 in /home/mmr/.pyenv/versions/3.12.7/lib/python3.12/site-packages (from matplotlib>=3.5.0->phiflow) (1.3.1)\n",
      "Requirement already satisfied: cycler>=0.10 in /home/mmr/.pyenv/versions/3.12.7/lib/python3.12/site-packages (from matplotlib>=3.5.0->phiflow) (0.12.1)\n",
      "Requirement already satisfied: fonttools>=4.22.0 in /home/mmr/.pyenv/versions/3.12.7/lib/python3.12/site-packages (from matplotlib>=3.5.0->phiflow) (4.55.3)\n",
      "Requirement already satisfied: kiwisolver>=1.3.1 in /home/mmr/.pyenv/versions/3.12.7/lib/python3.12/site-packages (from matplotlib>=3.5.0->phiflow) (1.4.7)\n",
      "Requirement already satisfied: numpy>=1.23 in /home/mmr/.pyenv/versions/3.12.7/lib/python3.12/site-packages (from matplotlib>=3.5.0->phiflow) (1.26.4)\n",
      "Requirement already satisfied: pillow>=8 in /home/mmr/.pyenv/versions/3.12.7/lib/python3.12/site-packages (from matplotlib>=3.5.0->phiflow) (11.0.0)\n",
      "Requirement already satisfied: pyparsing>=2.3.1 in /home/mmr/.pyenv/versions/3.12.7/lib/python3.12/site-packages (from matplotlib>=3.5.0->phiflow) (3.2.0)\n",
      "Requirement already satisfied: python-dateutil>=2.7 in /home/mmr/.pyenv/versions/3.12.7/lib/python3.12/site-packages (from matplotlib>=3.5.0->phiflow) (2.9.0.post0)\n",
      "Requirement already satisfied: scipy>=1.5.4 in /home/mmr/.pyenv/versions/3.12.7/lib/python3.12/site-packages (from phiml>=1.14.0->phiflow) (1.14.1)\n",
      "Requirement already satisfied: six>=1.5 in /home/mmr/.pyenv/versions/3.12.7/lib/python3.12/site-packages (from python-dateutil>=2.7->matplotlib>=3.5.0->phiflow) (1.17.0)\n",
      "\n",
      "\u001b[1m[\u001b[0m\u001b[34;49mnotice\u001b[0m\u001b[1;39;49m]\u001b[0m\u001b[39;49m A new release of pip is available: \u001b[0m\u001b[31;49m25.1.1\u001b[0m\u001b[39;49m -> \u001b[0m\u001b[32;49m25.2\u001b[0m\n",
      "\u001b[1m[\u001b[0m\u001b[34;49mnotice\u001b[0m\u001b[1;39;49m]\u001b[0m\u001b[39;49m To update, run: \u001b[0m\u001b[32;49mpip install --upgrade pip\u001b[0m\n",
      "Note: you may need to restart the kernel to use updated packages.\n"
     ]
    }
   ],
   "source": [
    "%pip install phiflow"
   ]
  },
  {
   "cell_type": "code",
   "execution_count": 5,
   "id": "850450c4",
   "metadata": {},
   "outputs": [],
   "source": [
    "from phi.flow import *"
   ]
  },
  {
   "cell_type": "code",
   "execution_count": 6,
   "id": "aaf7e933",
   "metadata": {},
   "outputs": [],
   "source": [
    "v = StaggeredGrid(\n",
    "    values = lambda pos: vec(\n",
    "        x = math.cos(pos).vector[\"x\"] * math.sin(pos).vector[\"y\"],\n",
    "        y = -math.sin(pos).vector[\"x\"] * math.cos(pos).vector[\"y\"],\n",
    "    ),\n",
    "    extrapolation=extrapolation.PERIODIC,\n",
    "    x=25,\n",
    "    y=25,\n",
    "    bounds=Box(x = 2*PI, y = 2*PI)\n",
    ")"
   ]
  }
 ],
 "metadata": {
  "kernelspec": {
   "display_name": "Python 3",
   "language": "python",
   "name": "python3"
  },
  "language_info": {
   "codemirror_mode": {
    "name": "ipython",
    "version": 3
   },
   "file_extension": ".py",
   "mimetype": "text/x-python",
   "name": "python",
   "nbconvert_exporter": "python",
   "pygments_lexer": "ipython3",
   "version": "3.12.7"
  }
 },
 "nbformat": 4,
 "nbformat_minor": 5
}
