{
 "cells": [
  {
   "cell_type": "markdown",
   "metadata": {},
   "source": [
    "Im folgenden sind drei Aufgaben gegeben, eventuell ähnlich zu was im Kurztest zu erwarten wäre:"
   ]
  },
  {
   "cell_type": "markdown",
   "metadata": {},
   "source": [
    "## Aufgabe 1: Array Indizierung\n",
    "Generiere ein 1D-Numpy-Array mit 1000 zufälligen Ganzzahlen. Die Aufgabe besteht darin, den 23. kleinsten Wert im Array zu finden und seinen Index zurückzugeben. Verwende dazu geeignete Numpy-Methoden."
   ]
  },
  {
   "cell_type": "code",
   "execution_count": 1,
   "metadata": {},
   "outputs": [],
   "source": [
    "# hier code für Aufgabenlösung"
   ]
  },
  {
   "cell_type": "markdown",
   "metadata": {},
   "source": [
    "## Aufgabe 2: Matrixoperationen\n",
    "Erstelle eine 2D-Numpy-Array-Matrix, in der jede Zeile einem Schüler entspricht und jede Spalte soll die Ergebnisse dieser Schüler in einer Reihe benoteter Übungen angeben. Die Aufgaben sind:\n",
    "\n",
    "a) Identifiziere den Schüler, dessen Durchschnittspunktzahl dem Gesamtmittelwert aller Schüler am nächsten kommt.\n",
    "\n",
    "b) Identifiziere den Schüler, der zwischen seinem ersten und seinem letzten Ergebnis die größte Verbesserung erzielt hat."
   ]
  },
  {
   "cell_type": "code",
   "execution_count": 2,
   "metadata": {},
   "outputs": [],
   "source": [
    "# hier code für Aufgabenlösung"
   ]
  },
  {
   "cell_type": "markdown",
   "metadata": {},
   "source": [
    "## Aufgabe 3: Klassenerstellung und Aufruf von Methoden in der Klassen\n",
    "Erstellen eine Python Klasse \"Student, welche Folgendes kann:\n",
    "\n",
    "a) Initialisiere einen Student mit einem Namen und einer List von seinen Testresultaten.\n",
    "\n",
    "b) Berechne die durchschnittliche Punktzahl des Students und geben diese mit der Methode „calculate_average“ zurück.\n",
    "\n",
    "c) Erstelle ein Schülerobjekt, welches die Methode aufruft und den Durchschnitt ausgibt."
   ]
  },
  {
   "cell_type": "code",
   "execution_count": 3,
   "metadata": {},
   "outputs": [],
   "source": [
    "# hier code für Aufgabenlösung"
   ]
  }
 ],
 "metadata": {
  "kernelspec": {
   "display_name": "Python 3",
   "language": "python",
   "name": "python3"
  },
  "language_info": {
   "codemirror_mode": {
    "name": "ipython",
    "version": 3
   },
   "file_extension": ".py",
   "mimetype": "text/x-python",
   "name": "python",
   "nbconvert_exporter": "python",
   "pygments_lexer": "ipython3",
   "version": "3.11.9"
  }
 },
 "nbformat": 4,
 "nbformat_minor": 2
}
