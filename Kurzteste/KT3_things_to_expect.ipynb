{
 "cells": [
  {
   "cell_type": "markdown",
   "metadata": {},
   "source": [
    "Im folgenden sind drei Aufgaben gegeben, eventuell ähnlich zu was im Kurztest zu erwarten wäre:"
   ]
  },
  {
   "cell_type": "markdown",
   "metadata": {},
   "source": [
    "## Aufgabe 1: Array Indizierung\n",
    "Generiere ein 1D-Numpy-Array mit 1000 zufälligen Ganzzahlen. Die Aufgabe besteht darin, den 23. kleinsten Wert im Array zu finden und seinen Index zurückzugeben. Verwende dazu geeignete Numpy-Methoden."
   ]
  },
  {
   "cell_type": "code",
   "execution_count": 1,
   "metadata": {},
   "outputs": [],
   "source": [
    "# hier code für Aufgabenlösung"
   ]
  },
  {
   "cell_type": "markdown",
   "metadata": {},
   "source": [
    "## Aufgabe 2: Matrixoperationen\n",
    "Erstelle eine 2D-Numpy-Array-Matrix, in der jede Zeile einem Student entspricht und jede Spalte soll die Ergebnisse dieser Stundenten in einer Reihe benoteter Übungen angeben. Es seien 10 Stundenten mit 5 benoteten Übungen.\n",
    "\n",
    "a) Identifiziere den Student, dessen Durchschnittspunktzahl dem Gesamtmittelwert aller Studenten am nächsten kommt.\n",
    "\n",
    "b) Identifiziere den Student, der zwischen seinem ersten und seinem letzten Ergebnis die größte Verbesserung erzielt hat."
   ]
  },
  {
   "cell_type": "code",
   "execution_count": 2,
   "metadata": {},
   "outputs": [],
   "source": [
    "# hier code für Aufgabenlösung"
   ]
  },
  {
   "cell_type": "markdown",
   "metadata": {},
   "source": [
    "## Aufgabe 3: Klassenerstellung und Aufruf von Methoden in der Klasse\n",
    "Erstelle eine Python Klasse \"Student\", welche Folgendes kann:\n",
    "\n",
    "a) Initialisiere einen Student mit einem Namen und einer List von seinen Testresultaten.\n",
    "\n",
    "b) Berechne die durchschnittliche Punktzahl des Students und geben diese mit der Methode \"calculate_average“ zurück.\n",
    "\n",
    "c) Erstelle ein Studentenobjekt, den Student Peter. Die Methode vom Objekt aufgerufen werden und den Durchschnitt von Peter ausgeben.\n",
    "Peters Ergebnisse sind [85, 80, 78, 92, 95]. \n",
    "\n",
    "d) Gebe zusätzlich an, wenn der Student insgesamt 250 Punkte oder mehr erricht, dass er bestanden hat."
   ]
  },
  {
   "cell_type": "code",
   "execution_count": 3,
   "metadata": {},
   "outputs": [],
   "source": [
    "# hier code für Aufgabenlösung"
   ]
  }
 ],
 "metadata": {
  "kernelspec": {
   "display_name": "Python 3",
   "language": "python",
   "name": "python3"
  },
  "language_info": {
   "codemirror_mode": {
    "name": "ipython",
    "version": 3
   },
   "file_extension": ".py",
   "mimetype": "text/x-python",
   "name": "python",
   "nbconvert_exporter": "python",
   "pygments_lexer": "ipython3",
   "version": "3.11.9"
  }
 },
 "nbformat": 4,
 "nbformat_minor": 2
}
