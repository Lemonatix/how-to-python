{
 "cells": [
  {
   "cell_type": "code",
   "execution_count": 14,
   "metadata": {},
   "outputs": [],
   "source": [
    "a = \"Einsteinium\"\n",
    "b = \"Curium\""
   ]
  },
  {
   "cell_type": "markdown",
   "metadata": {},
   "source": [
    "\n",
    "\n",
    "1.\tUm welchen Variablentyp handelt es sich bei der Variable a und b? 4 Punkte\n",
    "\n",
    "-> String\n",
    "\n",
    "\n",
    "2.\tWie könnten Sie aus Variable a sie Zeichenkette „stein“ ausgeben? 4 Punkte\n",
    "\n",
    "-> a[3:8]\n",
    "\n",
    "\n",
    "3.\tWie könnten Sie aus Variable b sie Zeichenkette „Cm“ bzw. bei a „Em“ ausgeben mit mini-malen Codeänderungen i.e. mit den gleichen Indexnummern? 7 Punkte\n"
   ]
  },
  {
   "cell_type": "code",
   "execution_count": 18,
   "metadata": {},
   "outputs": [
    {
     "name": "stdout",
     "output_type": "stream",
     "text": [
      "stein\n",
      "stei\n",
      "Em\n",
      "Cm\n"
     ]
    }
   ],
   "source": [
    "print(a[3:8]) # korrekt\n",
    "print(a[3:7]) # falsch\n",
    "print(a[0]+a[-1])# richtig\n",
    "print(b[0]+b[-1])# richtig"
   ]
  },
  {
   "cell_type": "code",
   "execution_count": null,
   "metadata": {},
   "outputs": [],
   "source": [
    "#Schreiben Sie eine Funktion mit dem Namen averageFun welche drei \n",
    "#Argumente nimmt und von diesen den Mittelwert ausrechnet und zurückgibt. \n",
    "#Fügen Sie Kommentare hinzu! \n",
    "\n",
    "def averageFun(a,b,c):\n",
    "    #diese Funktion berechnet den Mittelwert von 3 Werten\n",
    "    #type hinting oder pydantic validierungen machen wir hier nicht\n",
    "    return (a+b+c)/3"
   ]
  },
  {
   "cell_type": "code",
   "execution_count": null,
   "metadata": {},
   "outputs": [],
   "source": [
    "# Schreiben Sie eine Klasse mit dem Namen TUMPerson und erzeugen sie eine\n",
    "# Instanz dieser Klasse. Gebe sie der Instanz folgende Arttribute:\n",
    "# Vorname, Geburtsjahr, BestandenePruefungen. Das letzte dieser Attribute soll eine leere Liste sein, \n",
    "# die anderen Attribute füllen sie bitte mit sinnvollen Werten\n",
    "\n",
    "class TUMPerson:\n",
    "    def __init__(self,n,g,bestp=[]):\n",
    "        self.Name = n\n",
    "        self.Geburtsjahr = g\n",
    "        self.BestandenePruefungen = bestp\n",
    "\n",
    "a = TUMPerson(\"Helge\",1988,[])"
   ]
  },
  {
   "cell_type": "markdown",
   "metadata": {},
   "source": [
    "Aufgabe 3 (insg. 55 Punkte): Mittels der folgenden Formel lässt sich die Abgeschiedene Stoffmenge bei einer Elektrochemischen Abscheidung berechnen (Foto des Experimentellen Aufbau wird gezeigt):\n",
    "$n=(I*t)/(z*F)$\n",
    "\n",
    "I = Strom in Ampere [A], t= Zeit in Sekunden [s], z = Anzahl der übertragenen Elektronen, F = Faraday Konstante ca. 96485 C/mol. \n",
    "Ein Columb [C] entspricht der Ladung von 1A*s. \n",
    "\n",
    "(30 Punkte): Erstellen sie Funktion welche Berechnet wieviel Mol Material abgeschieden werden, wenn der Strom in Milliampere (1000 Milliampere = 1 Ampere = 1A), t in Minuten und z als Zahl (z.B. 2) als Argumente übergegeben werden. Die Faraday Konstante soll in der Funktion gesetzt werden und nicht als Argument genommen werden! \n",
    "\n",
    "(15 Punkte): Erstellen sie eine weitere Funktion, welche das Abgeschiedene Volumen in cm3 berechnet, wenn die molare dichte [cm3/mol] sowie der Strom in Milliampere, t in Minuten und z als Zahl angegeben wird. Die zweite Funktion (zur Berechnung des abgeschiedenen Volumen) soll die erste Funktion (zur Berechnung der Abgeschiedenen Stoffmenge in Mol) aufrufen.\n"
   ]
  },
  {
   "cell_type": "code",
   "execution_count": null,
   "metadata": {},
   "outputs": [],
   "source": [
    "#die einfachste Weise:\n",
    "\n",
    "def molAbscheid(Ima, tmin, z):\n",
    "    return (Ima/1000*tmin*60)/(z*96485)\n",
    "\n",
    "def abgeschVol(dens, Ima, tmin, z):\n",
    "    return dens*molAbscheid(Ima, tmin, z)\n"
   ]
  },
  {
   "cell_type": "markdown",
   "metadata": {},
   "source": [
    "In der Vorlesung haben Sie mehrere Methoden kennengelernt, um Matrizen und sogenannte n-d-Matrizen z.\\,B. via \\verb|m = np.zeros([n,m])| zu erstellen. Über verschachtelte \\verb|for|-Schleifen konnten wir jedes Indexpaar n_, m_ auswählen. Erzeugen Sie eine Matrix mit (101 x 101 x 101) Elementen, welche zunächst alle 0 sind. Die Matrix soll nun mit Einsen gefüllt werden, und zwar immer dann, wenn folgende Gleichung für die Indizes (i, j, k) erfüllt ist:\n",
    "\n",
    "\n",
    "$\\frac{i}{100} + \\frac{j}{100} + \\frac{k}{100} = 1 \\quad \\text{(Gl. 1)}$"
   ]
  },
  {
   "cell_type": "code",
   "execution_count": null,
   "metadata": {},
   "outputs": [],
   "source": [
    "import numpy as np\n",
    "mat = np.zeros([101,101,101])\n",
    "\n",
    "for i in range(101):\n",
    "    for j in range(101):\n",
    "        for k in range(101):\n",
    "            if i/100 + k/100 + j/100 == 1:\n",
    "                mat[i,j,k] = 1"
   ]
  },
  {
   "cell_type": "markdown",
   "metadata": {},
   "source": [
    "Unsere Matrix von oben enthält viele Nullen. Erzeugen Sie stattdessen eine leere Liste, z.B. mit meineListe = [], und fügen Sie in diese Liste nur dann folgende Liste [i/100, j/100, k/100] hinzu (also eine Liste gefüllt mit Listen, z.,B. via meineListe.append(irgendwas), wenn Gl. 1 für alle möglichen Kombinationen von (i, j, k) zwischen 0 und 100 erfüllt ist."
   ]
  },
  {
   "cell_type": "code",
   "execution_count": 27,
   "metadata": {},
   "outputs": [
    {
     "name": "stdout",
     "output_type": "stream",
     "text": [
      "4947\n"
     ]
    }
   ],
   "source": [
    "#aufgabe 2\n",
    "meineListe = []\n",
    "for i in range(101):\n",
    "    for j in range(101):\n",
    "        for k in range(101):\n",
    "            #hier\n",
    "            if i/100 + k/100 + j/100 == 1:\n",
    "                meineListe.append([i/100,k/100,j/100])\n",
    "print(len(meineListe))"
   ]
  },
  {
   "cell_type": "markdown",
   "metadata": {},
   "source": [
    "Es ist übrigens auch theoretisch möglich das ganze etwas mathematisch effizienter zu lösen (und damit schneller) da $j = 100*(1 - k/100 - i/100)$ dann muss man sogar nur über k und i laufen lassen nuss aber eine weitere if abfrage machen damit j nicht negativ wird. Die Lösung oben läuft 101x101x101=1.030.301 mal die if schleife ab. Die lösung hier nur 10.201x (also ca. 101x schneller!)"
   ]
  },
  {
   "cell_type": "code",
   "execution_count": 31,
   "metadata": {},
   "outputs": [],
   "source": [
    "meineListe_alt = []\n",
    "for i in range(101):\n",
    "    for k in range(101):\n",
    "        if 100-k-i>=0:\n",
    "            j = 100-k-i\n",
    "            if i/100 + k/100 + j/100 == 1:\n",
    "                meineListe_alt.append([i/100,k/100,j/100])"
   ]
  },
  {
   "cell_type": "code",
   "execution_count": null,
   "metadata": {},
   "outputs": [
    {
     "name": "stdout",
     "output_type": "stream",
     "text": [
      "gleiche länge\n"
     ]
    }
   ],
   "source": [
    "assert len(meineListe) == len(meineListe_alt)\n",
    "print(\"gleiche länge\")"
   ]
  },
  {
   "cell_type": "markdown",
   "metadata": {},
   "source": [
    "Erzeugen Sie eine Klasse mit dem Namen Oizys, welche das Attribut Elend hat und die Funktion\n",
    "plusEins, welche keine Argumente nimmt. Wird plusEins ausgef ̈uhrt, erh ̈oht sich Elend um 1.\n",
    "Die Initialisierung von Oizys setzt Elend auf 0. Schreiben Sie die Klasse, erzeugen Sie eine Instanz\n",
    "x dieser Klasse und führen Sie plusEins für diese Instanz aus."
   ]
  },
  {
   "cell_type": "code",
   "execution_count": 38,
   "metadata": {},
   "outputs": [],
   "source": [
    "class Oizys():\n",
    "    def __init__(self):\n",
    "        self.Elend = 0\n",
    "    \n",
    "    def plusEins(self):\n",
    "        self.Elend = self.Elend + 1\n",
    "\n",
    "x = Oizys()\n",
    "x.plusEins()"
   ]
  }
 ],
 "metadata": {
  "kernelspec": {
   "display_name": "base",
   "language": "python",
   "name": "python3"
  },
  "language_info": {
   "codemirror_mode": {
    "name": "ipython",
    "version": 3
   },
   "file_extension": ".py",
   "mimetype": "text/x-python",
   "name": "python",
   "nbconvert_exporter": "python",
   "pygments_lexer": "ipython3",
   "version": "3.11.7"
  }
 },
 "nbformat": 4,
 "nbformat_minor": 2
}
