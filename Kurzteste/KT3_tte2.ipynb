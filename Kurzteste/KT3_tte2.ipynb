{
 "cells": [
  {
   "cell_type": "markdown",
   "metadata": {},
   "source": [
    "## Aufgabe 4: Arbeiten mit mehrdimensionalen Arrays\n",
    "Erstellen Sie eine 3D-Numpy-Matrix, die die Punktzahlen von Schülern in verschiedenen Klassen über mehrere Tests speichert. Jede Dimension repräsentiert:\n",
    "\n",
    "1. Dimension: Klassen (z. B. 3 Schulklassen),\n",
    "2. Dimension: Schüler in einer Schulklasse (z.B. 5 Schüler pro Klasse),\n",
    "3. Dimension: Punktzahlen der Tests (z. B. 4 Tests). (Punktzahl von 0 bis 100)\n",
    "Aufgaben:\n",
    "\n",
    "a) Finden Sie die durchschnittliche Punktzahl jedes Schülers in jeder Klasse.\n",
    "\n",
    "b) Ermitteln Sie die Gesamtklasse mit dem besten Durchschnitt über alle Tests hinweg.\n",
    "\n",
    "c) Ermitteln Sie den Schüler mit der höchsten Einzelleistung (höchste Punktzahl über alle Tests und Klassen)."
   ]
  },
  {
   "cell_type": "code",
   "execution_count": 251,
   "metadata": {},
   "outputs": [
    {
     "name": "stdout",
     "output_type": "stream",
     "text": [
      "Durchschnittliche Punktzahl pro Schüler:\n",
      " [[55.5  48.75 42.25 44.   28.25]\n",
      " [25.75 50.75 56.75 46.75 70.  ]\n",
      " [51.75 37.75 53.25 38.5  50.75]]\n",
      "Durchschnittliche Punktzahl pro Schüler in jeder Klasse: \n",
      " [[55.5  48.75 42.25 44.   28.25]\n",
      " [25.75 50.75 56.75 46.75 70.  ]\n",
      " [51.75 37.75 53.25 38.5  50.75]]\n",
      "Klasse mit bestem Durchschnitt: 1, Durchschnitt: 50.0\n",
      "Punktzahl-Matrix:\n",
      " [[[32 39 81 70]\n",
      "  [82 12 88 13]\n",
      "  [41  7 97 24]\n",
      "  [17 83 72  4]\n",
      "  [22 68  7 16]]\n",
      "\n",
      " [[ 1 46 56  0]\n",
      "  [34 26 99 44]\n",
      "  [34 50 65 78]\n",
      "  [ 5 60 78 44]\n",
      "  [83 50 92 55]]\n",
      "\n",
      " [[88 42  7 70]\n",
      "  [91 36 16  8]\n",
      "  [64 69 14 66]\n",
      "  [42 41  2 69]\n",
      "  [45 97 30 31]]]\n",
      "Höchste Punktzahl: 99\n",
      "Position: Klasse 1, Schüler 1, Test2\n"
     ]
    }
   ],
   "source": [
    "import numpy as np\n",
    "\n",
    "scores = np.random.randint(0, 101, size = (3, 5, 4))\n",
    "\n",
    "# a)\n",
    "student_average = scores.mean(axis=2)\n",
    "print(\"Durchschnittliche Punktzahl pro Schüler:\\n\", student_average)\n",
    "# alternativ mit numpy.mean()\n",
    "student_averages = np.average(scores, axis=2)\n",
    "print(\"Durchschnittliche Punktzahl pro Schüler in jeder Klasse: \\n\", student_averages)\n",
    "\n",
    "# b)\n",
    "class_average = student_average.mean(axis=1)\n",
    "best_class = np.argmax(class_average)\n",
    "print(f\"Klasse mit bestem Durchschnitt: {best_class}, Durchschnitt: {class_average[best_class]}\")\n",
    "\n",
    "# c)\n",
    "max_score = 0\n",
    "best_class, best_student, best_test = None, None, None\n",
    "\n",
    "for i in range(3):\n",
    "    for j in range(5):\n",
    "        for k in range(4):\n",
    "            if scores[i,j,k] > max_score:\n",
    "                max_score = scores[i,j,k]\n",
    "                best_class, best_student, best_test = [i,j,k]\n",
    "print(\"Punktzahl-Matrix:\\n\", scores)\n",
    "print(f\"Höchste Punktzahl: {max_score}\")\n",
    "print(f\"Position: Klasse {best_class}, Schüler {best_student}, Test{best_test}\")"
   ]
  },
  {
   "cell_type": "markdown",
   "metadata": {},
   "source": [
    "## Aufgabe 5: String-Manipulation & Analyse\n",
    "Sie haben eine Liste von Strings, die Studenten und ihre Punktzahlen in einem Format speichert:\n",
    "\"Name: <Name>, Punkte: [<Punkt1>, <Punkt2>, ...]\". Verwende folgende List: \n",
    "\n",
    "students = [\n",
    "\"Name: Jürgen, Punkte: [75, 80, 85]\", \n",
    "\"Name: Peter, Punkte: [66, 77, 88]\", \n",
    "\"Name: Justus, Punkte: [68, 33, 94]\"\n",
    "]\n",
    "\n",
    "\n",
    "Aufgaben:\n",
    "\n",
    "a) Schreiben Sie ein Programm, das die Liste einliest und die Durchschnittspunkte jedes Studenten berechnet.\n",
    "\n",
    "b) Finden Sie den Studenten mit der besten Gesamtleistung.\n",
    "\n",
    "c) Geben Sie alle Ergebnisse in sortierter Reihenfolge nach Durchschnittspunkten aus."
   ]
  },
  {
   "cell_type": "code",
   "execution_count": 252,
   "metadata": {},
   "outputs": [
    {
     "name": "stdout",
     "output_type": "stream",
     "text": [
      "[['Jürgen', 80.0], ['Peter', 77.0], ['Justus', 65.0]]\n",
      "Höchster Durchschnitt: 80.0 des Student Jürgen.\n",
      "Durchschnittspunkte pro Student: \n",
      "Justus: 65.0\n",
      "Peter: 77.0\n",
      "Jürgen: 80.0\n"
     ]
    }
   ],
   "source": [
    "students = [\n",
    "\"Name: Jürgen, Punkte: [75, 80, 85]\", \n",
    "\"Name: Peter, Punkte: [66, 77, 88]\", \n",
    "\"Name: Justus, Punkte: [68, 33, 94]\"\n",
    "]\n",
    "\n",
    "# a)\n",
    "results = []\n",
    "\n",
    "for entry in students:\n",
    "    name_part, scores_part = entry.split(\", Punkte: \")\n",
    "    name = name_part.split(\": \")[1]\n",
    "    scores = eval(scores_part)\n",
    "    avg_score = sum(scores) / 3\n",
    "\n",
    "    results.append([name, avg_score])\n",
    "print(results)\n",
    "\n",
    "# b)\n",
    "best_student = None\n",
    "highest_avg = 0\n",
    "\n",
    "for result in results:\n",
    "    if result[1] > highest_avg:\n",
    "        highest_avg = result[1]\n",
    "        best_student = result[0]\n",
    "\n",
    "print(f\"Höchster Durchschnitt: {highest_avg} des Student {best_student}.\")\n",
    "\n",
    "# c)\n",
    "averages = np.array([result[1] for result in results])\n",
    "sorted_indices = np.argsort(averages)\n",
    "sorted_results = [results[i] for i in sorted_indices]\n",
    "\n",
    "print(\"Durchschnittspunkte pro Student: \")\n",
    "for name, avg in sorted_results:\n",
    "    print(f\"{name}: {avg}\")"
   ]
  },
  {
   "cell_type": "markdown",
   "metadata": {},
   "source": [
    "## Aufgabe 6: Zeitbasierte Simulation\n",
    "Erstellen Sie eine Simulation für die Punktzahlen von Schülern, die sich über ein Jahr hinweg entwickeln. Jedes Quartal (4 Zeitpunkte) sollen sich die Punktzahlen durch einen Fortschrittsfaktor ändern. Der Fortschrittsfaktor wird zufällig generiert.\n",
    "\n",
    "Aufgaben:\n",
    "\n",
    "a) Erstellen Sie eine Punktzahl-Liste für 10 Schüler, die jeweils mit einem Startwert zwischen 50 und 100 beginnt.\n",
    "\n",
    "b) Simulieren Sie die Punktzahlen über 4 Quartale, wobei in jedem Quartal ein Zufallsfaktor zwischen 1.01 (1% Zuwachs) und 1.10 (10% Zuwachs) angewendet wird.\n",
    "\n",
    "c) Geben Sie die Endpunktzahlen der Schüler aus und ermitteln Sie denjenigen mit der besten Gesamtkurve."
   ]
  },
  {
   "cell_type": "code",
   "execution_count": 253,
   "metadata": {},
   "outputs": [
    {
     "name": "stdout",
     "output_type": "stream",
     "text": [
      "Startpunktzahlen: [ 91.91108093  97.61621572  68.13185178  77.24814942  50.06032655\n",
      "  70.15517245 100.8767438   84.36965102  58.5073378   57.6994321 ]\n",
      "Endpunktzahlen: [108.21455133 126.4065505   81.54590781  98.13689773  63.5543363\n",
      "  84.8880637  123.77768154  98.2624306   71.53609705  67.34008852]\n",
      "Schüler mit der besten Gesamtkurve: Index 1, Endpunktzahl: 126.41\n"
     ]
    }
   ],
   "source": [
    "# a)\n",
    "scores = np.random.uniform(50, 101, size=10)\n",
    "print(\"Startpunktzahlen:\", scores)\n",
    "\n",
    "# b)\n",
    "for _ in range(4):\n",
    "    growth_factors = np.random.uniform(1.01, 1.10, size=scores.shape)\n",
    "    scores *= growth_factors\n",
    "\n",
    "# c)\n",
    "best_student = np.argmax(scores)\n",
    "print(\"Endpunktzahlen:\", scores)\n",
    "print(f\"Schüler mit der besten Gesamtkurve: Index {best_student}, Endpunktzahl: {scores[best_student]:.2f}\")"
   ]
  },
  {
   "cell_type": "markdown",
   "metadata": {},
   "source": [
    "## Aufgabe 7: Kreative Klassenaufgabe, Bibliothekssystem\n",
    "Stellen Sie sich vor, Sie entwickeln ein System für eine Bibliothek. Ihre Aufgabe ist es, eine Klasse Library zu erstellen, die die Bücher der Bibliothek verwaltet. Jedes Buch hat einen Titel, einen Autor und eine Verfügbarkeit (ob es ausgeliehen ist oder nicht).\n",
    "\n",
    "Anforderungen:\n",
    "Die Klasse Library soll Methoden haben, um:\n",
    "Ein Buch hinzuzufügen.\n",
    "Ein Buch auszuleihen.\n",
    "Ein Buch zurückzugeben.\n",
    "Alle verfügbaren Bücher anzuzeigen.\n",
    "Wenn jemand ein Buch ausleiht, das nicht verfügbar ist, soll eine entsprechende Nachricht ausgegeben werden.\n",
    "Implementieren Sie auch eine Methode, die alle Bücher eines bestimmten Autors auflistet."
   ]
  },
  {
   "cell_type": "code",
   "execution_count": 254,
   "metadata": {},
   "outputs": [],
   "source": [
    "class Library:\n",
    "    def __init__(self):\n",
    "        self.books = []\n",
    "    \n",
    "    def add_book(self, title, author):\n",
    "        self.books.append({\"title\": title, \"author\": author, \"available\": True})\n",
    "        print(f\"Buch verfügbar: {title} von {author}\")\n",
    "    \n",
    "    def borrow_book(self, title):\n",
    "        for book in self.books:\n",
    "            if book[\"available\"]:\n",
    "                book[\"available\"] = False\n",
    "                print(f\"Du hast das Buch '{title}' ausgeliehen.\")\n",
    "                return\n",
    "            else:\n",
    "                print(f\"Das Buch '{title}' ist nicht verfügbar.\")\n",
    "                return\n",
    "\n",
    "    def return_book(self, title):\n",
    "        for book in self.books:\n",
    "            if book[\"title\"] == title:\n",
    "                if not book[\"available\"]:\n",
    "                    book[\"available\"] = True\n",
    "                    print(f\"Das Buch '{title}' wurde zurückgegeben.\")\n",
    "                    return\n",
    "                else:\n",
    "                    print(f\"Das Buch '{title0}' wurde nicht ausgeliehen.\")\n",
    "                    return\n",
    "\n",
    "    def show_available_books(self):\n",
    "        available_books = [book[\"title\"] for book in self.books if book[\"available\"]]\n",
    "        if available_books:\n",
    "            print(\"Verfügbare Bücher:\")\n",
    "            for title in available_books:\n",
    "                print(f\"- {title}\")\n",
    "        else:\n",
    "            print(\"Kein Bücher verfügbar.\")\n",
    "\n",
    "    def show_books_by_author(self, author):\n",
    "        author_books = [book[\"title\"] for book in self.books if book[\"author\"] == author]\n",
    "        if author_books:\n",
    "            print(f\"Bücher von {author}:\")\n",
    "            for title in author_books:\n",
    "                print(f\"- {title}\")\n",
    "        else:\n",
    "            print(f\"Es gibt kein Bücher von diesem {author}.\")\n",
    "            "
   ]
  },
  {
   "cell_type": "code",
   "execution_count": 255,
   "metadata": {},
   "outputs": [
    {
     "name": "stdout",
     "output_type": "stream",
     "text": [
      "Buch verfügbar: 1984 von George Orwell\n",
      "Buch verfügbar: Animal Farm von George Orwell\n",
      "Buch verfügbar: To Kill a Mockingbird von Harper Lee\n",
      "Du hast das Buch '1984' ausgeliehen.\n",
      "Das Buch '1984' wurde zurückgegeben.\n",
      "Verfügbare Bücher:\n",
      "- 1984\n",
      "- Animal Farm\n",
      "- To Kill a Mockingbird\n",
      "Bücher von George Orwell:\n",
      "- 1984\n",
      "- Animal Farm\n"
     ]
    }
   ],
   "source": [
    "library = Library()\n",
    "library.add_book(\"1984\", \"George Orwell\")\n",
    "library.add_book(\"Animal Farm\", \"George Orwell\")\n",
    "library.add_book(\"To Kill a Mockingbird\", \"Harper Lee\")\n",
    "\n",
    "library.borrow_book(\"1984\")  # Buch ist nicht verfügbar\n",
    "\n",
    "library.return_book(\"1984\")\n",
    "library.show_available_books()\n",
    "library.show_books_by_author(\"George Orwell\")"
   ]
  }
 ],
 "metadata": {
  "kernelspec": {
   "display_name": "Python 3",
   "language": "python",
   "name": "python3"
  },
  "language_info": {
   "codemirror_mode": {
    "name": "ipython",
    "version": 3
   },
   "file_extension": ".py",
   "mimetype": "text/x-python",
   "name": "python",
   "nbconvert_exporter": "python",
   "pygments_lexer": "ipython3",
   "version": "3.11.9"
  }
 },
 "nbformat": 4,
 "nbformat_minor": 2
}
