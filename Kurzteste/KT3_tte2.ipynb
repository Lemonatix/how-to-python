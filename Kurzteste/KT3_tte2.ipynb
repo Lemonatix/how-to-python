{
 "cells": [
  {
   "cell_type": "markdown",
   "metadata": {},
   "source": [
    "## Aufgabe 4: Arbeiten mit mehrdimensionalen Arrays\n",
    "Erstellen Sie eine 3D-Numpy-Matrix, die die Punktzahlen von Schülern in verschiedenen Klassen über mehrere Tests speichert. Jede Dimension repräsentiert:\n",
    "\n",
    "1. Dimension: Klassen (z. B. 3 Schulklassen),\n",
    "2. Dimension: Schüler in einer Schulklasse (z.B. 5 Schüler pro Klasse),\n",
    "3. Dimension: Punktzahlen der Tests (z. B. 4 Tests).\n",
    "Aufgaben:\n",
    "\n",
    "a) Finden Sie die durchschnittliche Punktzahl jedes Schülers in jeder Klasse.\n",
    "\n",
    "b) Ermitteln Sie die Gesamtklasse mit dem besten Durchschnitt über alle Tests hinweg.\n",
    "\n",
    "c) Ermitteln Sie den Schüler mit der höchsten Einzelleistung (höchste Punktzahl über alle Tests und Klassen)."
   ]
  },
  {
   "cell_type": "code",
   "execution_count": null,
   "metadata": {},
   "outputs": [],
   "source": []
  },
  {
   "cell_type": "markdown",
   "metadata": {},
   "source": [
    "## Aufgabe 5: String-Manipulation & Analyse\n",
    "Sie haben eine Liste von Strings, die Studenten und ihre Punktzahlen in einem Format speichert:\n",
    "\"Name: <Name>, Punkte: [<Punkt1>, <Punkt2>, ...]\".\n",
    "\n",
    "Aufgaben:\n",
    "\n",
    "a) Schreiben Sie ein Programm, das die Liste einliest und die Durchschnittspunkte jedes Studenten berechnet.\n",
    "\n",
    "b) Finden Sie den Studenten mit der besten Gesamtleistung.\n",
    "\n",
    "c) Geben Sie alle Ergebnisse in sortierter Reihenfolge nach Durchschnittspunkten aus."
   ]
  },
  {
   "cell_type": "code",
   "execution_count": null,
   "metadata": {},
   "outputs": [],
   "source": []
  },
  {
   "cell_type": "markdown",
   "metadata": {},
   "source": [
    "## Aufgabe 6: Zeitbasierte Simulation\n",
    "Erstellen Sie eine Simulation für die Punktzahlen von Schülern, die sich über ein Jahr hinweg entwickeln. Jedes Quartal (4 Zeitpunkte) sollen sich die Punktzahlen durch einen Fortschrittsfaktor ändern. Der Fortschrittsfaktor wird zufällig generiert.\n",
    "\n",
    "Aufgaben:\n",
    "\n",
    "a) Erstellen Sie eine Punktzahl-Liste für 10 Schüler, die jeweils mit einem Startwert zwischen 50 und 100 beginnt.\n",
    "\n",
    "b) Simulieren Sie die Punktzahlen über 4 Quartale, wobei in jedem Quartal ein Zufallsfaktor zwischen 1.01 (1% Zuwachs) und 1.10 (10% Zuwachs) angewendet wird.\n",
    "\n",
    "c) Geben Sie die Endpunktzahlen der Schüler aus und ermitteln Sie denjenigen mit der besten Gesamtkurve."
   ]
  },
  {
   "cell_type": "code",
   "execution_count": null,
   "metadata": {},
   "outputs": [],
   "source": []
  },
  {
   "cell_type": "markdown",
   "metadata": {},
   "source": [
    "## Aufgabe 7: Kreative Klassenaufgabe, Bibliothekssystem\n",
    "Stellen Sie sich vor, Sie entwickeln ein System für eine Bibliothek. Ihre Aufgabe ist es, eine Klasse Library zu erstellen, die die Bücher der Bibliothek verwaltet. Jedes Buch hat einen Titel, einen Autor und eine Verfügbarkeit (ob es ausgeliehen ist oder nicht).\n",
    "\n",
    "Anforderungen:\n",
    "Die Klasse Library soll Methoden haben, um:\n",
    "Ein Buch hinzuzufügen.\n",
    "Ein Buch auszuleihen.\n",
    "Ein Buch zurückzugeben.\n",
    "Alle verfügbaren Bücher anzuzeigen.\n",
    "Wenn jemand ein Buch ausleiht, das nicht verfügbar ist, soll eine entsprechende Nachricht ausgegeben werden.\n",
    "Implementieren Sie auch eine Methode, die alle Bücher eines bestimmten Autors auflistet."
   ]
  },
  {
   "cell_type": "code",
   "execution_count": null,
   "metadata": {},
   "outputs": [],
   "source": []
  }
 ],
 "metadata": {
  "language_info": {
   "name": "python"
  }
 },
 "nbformat": 4,
 "nbformat_minor": 2
}
