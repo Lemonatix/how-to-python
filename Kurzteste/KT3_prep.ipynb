{
 "cells": [
  {
   "cell_type": "code",
   "execution_count": 6,
   "metadata": {},
   "outputs": [
    {
     "name": "stdout",
     "output_type": "stream",
     "text": [
      "['Apple', 54, 87, 36, True]\n",
      "Apple\n",
      "54\n",
      "True\n"
     ]
    }
   ],
   "source": [
    "# a list looks like the following\n",
    "list1 = [4, 8, 7, 6, 9]\n",
    "list2 = list([4, 8, 7, 6, 9]) # built in list function\n",
    "\n",
    "'''\n",
    "datatypes in lists: [string, int, float, list, set, dict, tuple, boolean]\n",
    "'''\n",
    "# simple example\n",
    "list3 = [\"Apple\", 54, 87,36, True]\n",
    "print(list3)\n",
    "\n",
    "# accessing list indices / items\n",
    "print(list3[0]) # prints \"Apple\"\n",
    "print(list3[1]) # prints 54\n",
    "print(list3[-1]) # prints \"True\""
   ]
  },
  {
   "cell_type": "code",
   "execution_count": 7,
   "metadata": {},
   "outputs": [
    {
     "name": "stdout",
     "output_type": "stream",
     "text": [
      "['apple', 'banana', 'orange']\n",
      "The list is: []\n",
      "List length: 0\n"
     ]
    }
   ],
   "source": [
    "# we can update existing lists\n",
    "'''\n",
    "list[index] = new_value\n",
    "'''\n",
    "list4 = [\"apple\", \"banana\", \"cherry\"]\n",
    "list4[2] = \"orange\"\n",
    "print(list4)\n",
    "\n",
    "mylist = [] # creates an empty list\n",
    "mylist = list() # also creates an empty list\n",
    "print(\"The list is:\", mylist)\n",
    "print(\"List length:\", len(mylist)) # length of the list is 0"
   ]
  },
  {
   "cell_type": "code",
   "execution_count": 8,
   "metadata": {},
   "outputs": [
    {
     "name": "stdout",
     "output_type": "stream",
     "text": [
      "[0, 0, 0, 0, 0, 0, 0, 0, 0, 0]\n",
      "['apple']\n",
      "[[], [], [], [], []]\n",
      "[2, 3, 4]\n",
      "[9, 8, 7, 6]\n"
     ]
    }
   ],
   "source": [
    "# we can multiply lists: [initial_value] * n\n",
    "n = 10\n",
    "initial_value = 0 # initial value can also be None\n",
    "output = [initial_value] * n # [initial_value] = [0]\n",
    "print(output)\n",
    "\n",
    "# we can add strings to empty list by appending, regerally: list.append(item)\n",
    "x = []\n",
    "x.append(\"apple\")\n",
    "print(x)\n",
    "\n",
    "# list of empty lists\n",
    "n = 5\n",
    "y = [[]] * n\n",
    "print(y)\n",
    "\n",
    "# create sublist\n",
    "z = [1, 2, 3, 4, 5]\n",
    "sublist = z[1:4]\n",
    "print(sublist)\n",
    "\n",
    "w = [6, 7, 8, 9]\n",
    "w.reverse() # or z = z[::-1] also reverses the list\n",
    "print(w)"
   ]
  },
  {
   "cell_type": "code",
   "execution_count": 9,
   "metadata": {},
   "outputs": [
    {
     "name": "stdout",
     "output_type": "stream",
     "text": [
      "Student Data:\n",
      "Name: Arjun, Age: 14\n",
      "Name: Ajay, Age: 15\n",
      "Name: Mike, Age: 13\n"
     ]
    }
   ],
   "source": [
    "# basic class and accessing it\n",
    "class Student:\n",
    "    def __init__(self, name, age):\n",
    "        self.name = name\n",
    "        self.age = age\n",
    "\n",
    "    def __repr__(self):\n",
    "        return f\"Student(name={self.name}, age={self.age})\"\n",
    "\n",
    "# Create student objects\n",
    "student1 = Student('Arjun', 14)\n",
    "student2 = Student('Ajay', 15)\n",
    "student3 = Student('Mike', 13)\n",
    "\n",
    "print(\"Student Data:\" )\n",
    "for student in [student1, student2, student3]:\n",
    "    print(f\"Name: {student.name}, Age: {student.age}\")"
   ]
  }
 ],
 "metadata": {
  "kernelspec": {
   "display_name": "Python 3",
   "language": "python",
   "name": "python3"
  },
  "language_info": {
   "codemirror_mode": {
    "name": "ipython",
    "version": 3
   },
   "file_extension": ".py",
   "mimetype": "text/x-python",
   "name": "python",
   "nbconvert_exporter": "python",
   "pygments_lexer": "ipython3",
   "version": "3.11.9"
  }
 },
 "nbformat": 4,
 "nbformat_minor": 2
}
