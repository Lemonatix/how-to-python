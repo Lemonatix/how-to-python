{
 "cells": [
  {
   "cell_type": "markdown",
   "metadata": {},
   "source": [
    "Im folgenden sind drei Aufgaben gegeben, eventuell ähnlich zu was im Kurztest zu erwarten wäre:"
   ]
  },
  {
   "cell_type": "markdown",
   "metadata": {},
   "source": [
    "## Aufgabe 1: Array Indizierung\n",
    "Generiere ein 1D-Numpy-Array mit 1000 zufälligen Ganzzahlen. Die Aufgabe besteht darin, den 23. kleinsten Wert im Array zu finden und seinen Index zurückzugeben. Verwende dazu geeignete Numpy-Methoden."
   ]
  },
  {
   "cell_type": "code",
   "execution_count": 20,
   "metadata": {},
   "outputs": [
    {
     "name": "stdout",
     "output_type": "stream",
     "text": [
      "23rd Smallest Value: 28\n",
      "Index of 23rd Smallest Value: 793\n"
     ]
    }
   ],
   "source": [
    "import numpy as np\n",
    "\n",
    "arr = np.random.randint(1, 1001, size=1000) # generiert zufälliges 1D numpy array mit 1000 integers\n",
    "\n",
    "sorted_indices = np.argsort(arr) # sortiere Indizes\n",
    "value_23rd_smallest = arr[sorted_indices[22]] # 23. kleinster Wert \n",
    "\n",
    "index_23rd_smallest = np.where(arr == value_23rd_smallest)[0][0] # 1. [0] extrahiert Array von Indizes aus dem von np.where zurückgegebenen Tupel; 2. [0] gibt den ersten Index des Arrays\n",
    "\n",
    "print(\"23rd Smallest Value:\", value_23rd_smallest)\n",
    "print(\"Index of 23rd Smallest Value:\", index_23rd_smallest)"
   ]
  },
  {
   "cell_type": "markdown",
   "metadata": {},
   "source": [
    "## Aufgabe 2: Matrixoperationen\n",
    "Erstelle eine 2D-Numpy-Array-Matrix, in der jede Zeile einem Student entspricht und jede Spalte soll die Ergebnisse dieser Stundenten in einer Reihe benoteter Übungen angeben. Es seien 10 Stundenten mit 5 benoteten Übungen.\n",
    "\n",
    "a) Identifiziere den Student, dessen Durchschnittspunktzahl dem Gesamtmittelwert aller Studenten am nächsten kommt.\n",
    "\n",
    "b) Identifiziere den Student, der zwischen seinem ersten und seinem letzten Ergebnis die größte Verbesserung erzielt hat."
   ]
  },
  {
   "cell_type": "code",
   "execution_count": 44,
   "metadata": {},
   "outputs": [
    {
     "name": "stdout",
     "output_type": "stream",
     "text": [
      "Scores Matrix:\n",
      " [[ 23  32  73  61  15]\n",
      " [ 71  39  33  65  87]\n",
      " [ 65  44  72  34  55]\n",
      " [ 69  28  38  69  40]\n",
      " [ 89  28  74  53  80]\n",
      " [ 59  54  65  43   2]\n",
      " [ 17  26  16 100  81]\n",
      " [ 31  67  98 100   5]\n",
      " [ 46  44   8  48  63]\n",
      " [ 66  16  73  26  83]]\n",
      "Student closest to the mean is at index: 9, Avg Score: 52.80\n",
      "Student with greatest improvement is at index: 6, Improvement: 64\n"
     ]
    }
   ],
   "source": [
    "import numpy as np\n",
    "\n",
    "mat = np.random.randint(0, 101, size=(10,5)) # erstellt zufällige Matrix mit möglichen Ergebnissen\n",
    "\n",
    "# a)\n",
    "row_means = mat.mean(axis=1) # Durchschnittsnoten pro student\n",
    "overall_mean = mat.mean() # allgemeine Durchschnitt\n",
    "closest_to_mean_index = np.argmin(np.abs(row_means - overall_mean))\n",
    "\n",
    "# b) last score - first score\n",
    "improvements = mat[:, -1] - mat[:, 0]  # Verbesserungen aller Studenten\n",
    "greatest_improvement_index = np.argmax(improvements)\n",
    "\n",
    "print(\"Scores Matrix:\\n\", mat)\n",
    "print(f\"Student closest to the mean is at index: {closest_to_mean_index}, Avg Score: {row_means[closest_to_mean_index]:.2f}\")\n",
    "print(f\"Student with greatest improvement is at index: {greatest_improvement_index}, Improvement: {improvements[greatest_improvement_index]}\")"
   ]
  },
  {
   "cell_type": "markdown",
   "metadata": {},
   "source": [
    "## Aufgabe 3: Klassenerstellung und Aufruf von Methoden in der Klasse\n",
    "Erstelle eine Python Klasse \"Student\", welche Folgendes kann:\n",
    "\n",
    "a) Initialisiere einen Student mit einem Namen und einer List von seinen Testresultaten.\n",
    "\n",
    "b) Berechne die durchschnittliche Punktzahl des Students und geben diese mit der Methode \"calculate_average“ zurück.\n",
    "\n",
    "c) Erstelle ein Studentenobjekt, den Student Peter. Die Methode vom Objekt aufgerufen werden und den Durchschnitt von Peter ausgeben.\n",
    "Peters Ergebnisse sind [85, 80, 78, 92, 95]. \n",
    "\n",
    "d) Gebe zusätzlich an, wenn der Student insgesamt 250 Punkte oder mehr erricht, dass er bestanden hat."
   ]
  },
  {
   "cell_type": "code",
   "execution_count": 49,
   "metadata": {},
   "outputs": [
    {
     "name": "stdout",
     "output_type": "stream",
     "text": [
      "Student Name: Peter\n",
      "Average Score: 86.00\n",
      "Peter hat bestanden.\n"
     ]
    }
   ],
   "source": [
    "# a)\n",
    "class Student: # erstellt Klasse Student\n",
    "    def __init__(self, name, scores): # initialisiert Klasse\n",
    "        self.name = name\n",
    "        self.scores = scores\n",
    "# b)\n",
    "    def calculate_average(self): # erstellt Funktion\n",
    "        return sum(self.scores) / len(self.scores)\n",
    "# c)\n",
    "student = Student(\"Peter\", [85, 80, 78, 92, 95]) # erstellt Beispiel Studentobjekt mit Attributen\n",
    "\n",
    "average_score = student.calculate_average() # Durchschnitt des Students\n",
    "print(f\"Student Name: {student.name}\")\n",
    "print(f\"Average Score: {average_score:.2f}\")\n",
    "\n",
    "# d)\n",
    "ergebnisse = [85, 80, 78, 92, 95]\n",
    "gesamtpunktzahl = sum(ergebnisse)\n",
    "\n",
    "if gesamtpunktzahl >= 250: \n",
    "    print(\"Peter hat bestanden.\")\n",
    "else:\n",
    "    print(\"Peter hat nicht bestanden.\")"
   ]
  }
 ],
 "metadata": {
  "kernelspec": {
   "display_name": "Python 3",
   "language": "python",
   "name": "python3"
  },
  "language_info": {
   "codemirror_mode": {
    "name": "ipython",
    "version": 3
   },
   "file_extension": ".py",
   "mimetype": "text/x-python",
   "name": "python",
   "nbconvert_exporter": "python",
   "pygments_lexer": "ipython3",
   "version": "3.12.7"
  }
 },
 "nbformat": 4,
 "nbformat_minor": 2
}
