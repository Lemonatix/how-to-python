{
 "cells": [
  {
   "cell_type": "markdown",
   "metadata": {},
   "source": [
    "## Please render the file in an IDE that handels markdown files to see the table."
   ]
  },
  {
   "cell_type": "markdown",
   "metadata": {},
   "source": [
    "| Keyword | Description |\n",
    "| ------- | ----------- |\n",
    "and     | logical operator |\n",
    "as | to create alias \n",
    "assert | for debugging\n",
    "break | break out of a loop\n",
    "class | defines class\n",
    "continue | continue to next iteration of a loop \n",
    "def | to define a function\n",
    "del | to delete an object\n",
    "elif | usage in conditional statements (same as else if)\n",
    "else | usage in conditional statements\n",
    "except | for when exceptions (error during execution)/errors occur\n",
    "False | Boolean, result of comparison\n",
    "finally | used with exception, code will be executed no matter exception\n",
    "for | to create a for loop\n",
    "from | import specific part of value \n",
    "global | declare global variable\n",
    "if | make a conditional statement\n",
    "import | to import modules\n",
    "in | check if value is present in object (i.e. list)\n",
    "is | test if variables are equal\n",
    "lambda | create anonymous function\n",
    "None | represents empty value\n",
    "nonlocal | declare non-local variable (in nested functions)\n",
    "not | logical operator\n",
    "or | logical operator\n",
    "pass | empty statment, does nothing\n",
    "raise | raise an exception (excluded code)\n",
    "return | exit a function and return a value\n",
    "True | Boolean, result of comparison\n",
    "try | try-except statement for error checking\n",
    "while | creating while loop\n",
    "with | simplify exception handling (regarding exclusion of code)\n",
    "yield | to end a function and return generator"
   ]
  }
 ],
 "metadata": {
  "language_info": {
   "name": "python"
  }
 },
 "nbformat": 4,
 "nbformat_minor": 2
}
